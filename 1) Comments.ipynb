{
 "cells": [
  {
   "cell_type": "markdown",
   "id": "fae5dfbc-1386-45f3-8d96-e333da0564e8",
   "metadata": {},
   "source": [
    "# Comments in Python\n",
    "* In Python, comments start with the **hash character (#)** and end at the end of the line.In other words, if you want to write a comment, start the line with #.\n",
    "* Comments are ignored by the Python interpreter since they are used to make the code more readable and only for the programmers to refer to\n",
    "* Example of comments in Python:\n",
    "* #Below is the code to print Hello World\n",
    "* **`print(\"Hello World\")`**\n",
    "* Output\n",
    "* `Hello World`\n",
    "* As you can see from the result, the comment isn't actually given as output. It's simply there for the programmer's benefit."
   ]
  },
  {
   "cell_type": "markdown",
   "id": "ba3442cc-8bb4-4841-b562-d1f1f4f04d34",
   "metadata": {},
   "source": [
    "# Multi-line Comments\n",
    "* Putting a single-line comment is easy but it can prove to be a huge task if there are multiple lines of code that need to be ignored.\n",
    "* For example, you wrote 100 lines of beautiful code but later realized that from Line 72 till Line 92 needs to be ignored for now.\n",
    "* Does that mean putting (#) symbol close to 20 times?!\n",
    "* Not at all!\n",
    "* If a continuous block of code is enclosed between a pair of triple quotes then that entire block is commented out. These triple quotes are also called **Doc Strings.**"
   ]
  },
  {
   "cell_type": "code",
   "execution_count": 76,
   "id": "5da85501-f868-424b-b919-475f10db22ac",
   "metadata": {},
   "outputs": [
    {
     "name": "stdout",
     "output_type": "stream",
     "text": [
      "My\n",
      "James\n",
      "Bond\n"
     ]
    }
   ],
   "source": [
    "# Eg Multi-line comments\n",
    "print(\"My\")\n",
    "\"\"\"\n",
    "print(\"Name\")\n",
    "print(\"is\")\n",
    "print(\"Bond\")\n",
    "\"\"\"\n",
    "print(\"James\")\n",
    "print(\"Bond\")"
   ]
  },
  {
   "cell_type": "markdown",
   "id": "a836b5f7-620f-4b4f-8dc8-93f4a36adb00",
   "metadata": {},
   "source": [
    "* Use the multi-line comment technique wisely.\n",
    "* If no second occurrence of triple quotes (\"\"\") is found, Python comments out everything post the first pair.\n",
    "* As there is no second pair of triple quotes mentioned, everything below the first pair is commented out."
   ]
  },
  {
   "cell_type": "code",
   "execution_count": 8,
   "id": "f7febe97-94b6-484e-bdea-493637cd34be",
   "metadata": {},
   "outputs": [
    {
     "name": "stdout",
     "output_type": "stream",
     "text": [
      "My\n"
     ]
    },
    {
     "data": {
      "text/plain": [
       "'\\nprint(\"Name\")\\nprint(\"is\")\\nprint(\"Bond\")\\nprint(\"James\")\\nprint(\"Bond\")\\n'"
      ]
     },
     "execution_count": 8,
     "metadata": {},
     "output_type": "execute_result"
    }
   ],
   "source": [
    "# Eg of Multi-line comments\n",
    "print(\"My\")\n",
    "\"\"\"\n",
    "print(\"Name\")\n",
    "print(\"is\")\n",
    "print(\"Bond\")\n",
    "print(\"James\")\n",
    "print(\"Bond\")\n",
    "\"\"\""
   ]
  },
  {
   "cell_type": "code",
   "execution_count": null,
   "id": "17b567b8-22b8-4ca0-a4dd-06da02cfdcc1",
   "metadata": {},
   "outputs": [],
   "source": []
  }
 ],
 "metadata": {
  "kernelspec": {
   "display_name": "Python 3 (ipykernel)",
   "language": "python",
   "name": "python3"
  },
  "language_info": {
   "codemirror_mode": {
    "name": "ipython",
    "version": 3
   },
   "file_extension": ".py",
   "mimetype": "text/x-python",
   "name": "python",
   "nbconvert_exporter": "python",
   "pygments_lexer": "ipython3",
   "version": "3.12.4"
  }
 },
 "nbformat": 4,
 "nbformat_minor": 5
}
