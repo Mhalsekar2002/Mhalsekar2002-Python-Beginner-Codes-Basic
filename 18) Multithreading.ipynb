{
 "cells": [
  {
   "cell_type": "markdown",
   "id": "0ece8588-bd28-495f-b383-ff61769e9ca0",
   "metadata": {},
   "source": [
    "* Each task on computer is handled by a process.Each process is handled by something called Thread.\n",
    "* A thread is responsible for executing the various tasks on computer\n",
    "* **Task ~> Process ~> Thread**\n",
    "\n",
    "#**What is the Process?**\n",
    "* A process is basically the program in execution.\n",
    "* When you start an application on your computer, the operating system creates a process.\n",
    "* In simple words, a process is an instance of a computer program that is being executed.\n",
    "\n",
    "#**What is Thread?**\n",
    "* A thread is an entity within a process that can be scheduled for execution. Also, it is the smallest unit of processing that can be performed in an Operating System.\n",
    "* In simple words, a thread is a sequence of instructions within a program that can be executed independently of other code."
   ]
  },
  {
   "cell_type": "markdown",
   "id": "32156f57-05c3-4f49-8e4c-fa9251360cf3",
   "metadata": {},
   "source": [
    "## Multithreading\n",
    "* As we know, when multiple tasks are executed at the same time, we call it multitasking.\n",
    "* Similarly, when multiple threads are executed at the same time, it is called multithreading.\n",
    "* So, what is multithreading?\n",
    "* Multithreading is defined as the ability of a processor to execute multiple threads concurrently.\n",
    "* The central processing unit (CPU) or a single core in a multi-core processor executes multiple processes or threads concurrently, appropriately supported by the operating system.\n",
    "* Multiple threads may execute individually while sharing their process resources. The purpose of multithreading is to run multiple tasks and function calls at the same time.\n",
    "\n",
    "**#Example**\n",
    "* Let's take a simple example to understand what we discussed on the previous screen.\n",
    "* Assume that you are using Amazon. While using you might search for the items you wish to buy. So you would click on the search button, for example, you might search for, 'earphones'.\n",
    "* When you click on the search button, one thread will fetch the data from the database related to earphones.\n",
    "* Another thread (which is the main thread), will maintain the current screen until the search thread fetches the data.\n",
    "* Therefore, at the same time two tasks are running, one in the background (which is the search thread) and the second is the main thread (which maintains the current screen on the app until the search thread completes fetching of the data).\n",
    "* This is multi-threading in simple words.\n",
    "\n",
    "**#Multithreading Vs Multiprocessing**\n",
    "* Are multithreading and multiprocessing the same?\n",
    "* No! Multithreading differs from multiprocessing, as with multithreading the processes and threads have to share the resources of a single or multiple cores..\n",
    "* While multiprocessing systems include multiple processing units.\n",
    "* Multithreading aims to increase the utilization of a single core by using thread-level as well as instruction-level parallelism.\n",
    "* As the two techniques are complementary, they are sometimes combined in systems with multiple multithreading CPUs and in CPUs with multiple multithreading cores.\n",
    "#As we have seen, multithreading is the ability of a processor to execute multiple threads concurrently.Therefore, when we talk about the large scale applications that need to handle multiple tasks concurrently, then multithreading becomes an important feature."
   ]
  },
  {
   "cell_type": "code",
   "execution_count": 6,
   "id": "aee36a37-434b-49e1-960b-7a26666870ea",
   "metadata": {},
   "outputs": [
    {
     "name": "stdout",
     "output_type": "stream",
     "text": [
      "Hello from Example\n",
      "Hello from Example\n",
      "Hello from Example\n",
      "Hello from Example\n",
      "Hello from Example\n",
      "Hello from ExampleTwo\n",
      "Hello from ExampleTwo\n",
      "Hello from ExampleTwo\n",
      "Hello from ExampleTwo\n",
      "Hello from ExampleTwo\n"
     ]
    }
   ],
   "source": [
    "#Eg of Multihtreading\n",
    "class Example:\n",
    "    def run(self):\n",
    "        for i in range(5):\n",
    "            print(\"Hello from Example\")\n",
    "\n",
    "class ExampleTwo:\n",
    "    def run(self):\n",
    "        for i in range(5):\n",
    "            print(\"Hello from ExampleTwo\")\n",
    "\n",
    "example = Example()\n",
    "exampleTwo = ExampleTwo()\n",
    "example.run()\n",
    "exampleTwo.run()"
   ]
  },
  {
   "cell_type": "markdown",
   "id": "dd191043-a830-4768-8057-209a0f7afe34",
   "metadata": {},
   "source": [
    "## Understanding the Example\n",
    "* In the previous example, we have two classes Example and ExampleTwo.\n",
    "* Both have a method named run() which has a loop that simply prints something.\n",
    "* When we create the objects of these classes and call the run() method, we get the output as shown on the previous screen.\n",
    "* Well, as we know, Python executes the code sequentially from top to bottom, thus first the run() method of the Example class is executed fully, followed by the run() method of the ExampleTwo class.\n",
    "* Now assume that these two classes are responsible for some major functionalities of your applications.\n",
    "* What if the user tries to use both of these functionalities at the same time?\n",
    "* As we have seen, the other class will start its execution only when the first class is done executing, the user won't be able to access these functionalities simultaneously.That's quite bad.\n",
    "* Modern applications should be able to deal with such situations and allow the user to use various functionalities simultaneously.\n",
    "* That's where multithreading comes in!\n",
    "* The purpose of multithreading is to run multiple tasks and function calls at the same time"
   ]
  },
  {
   "cell_type": "markdown",
   "id": "c1eef4dc-afb2-4c24-88ba-39b3829d741e",
   "metadata": {},
   "source": [
    "#Python provides the following two modules to implement threading in Python,\n",
    "* **The thread module**\n",
    "* **The threading module**\n",
    "* Don't worry, we don't need to learn both of them! The thread module has long been deprecated in Python3.\n",
    "* Therefore, when we work with Python3, we will use the high-level \"threading\" module.\n",
    " \n",
    "## The threading module\n",
    "* The threading module is the high-level implementation of threading in python and the de facto standard for managing multithreaded applications.\n",
    "* It provides a wide range of features when compared to the thread module.\n",
    "* As you can see in the above image, this module defines many classes, functions, and more.\n",
    "* We will look at the functions provided by this module in the next slide. Talking about classes, we will be mostly working with only the Thread class. (We will start with it soon)\n",
    "\n",
    "**#Threading Modules Functions**\n",
    "* **activeCount()** - It returns the count of Thread objects which are still alive.\n",
    "* **currentThread()** - It returns the current object of the Thread class.\n",
    "* **enumerate()** - It returns the lists of all active Thread objects.\n",
    "* **is Daemon()** - It returns true if the thread is a daemon.\n",
    "* **isAlive()** - It returns true if the thread is still alive.\n",
    "\n",
    "**#Thread Class**\n",
    "* The thread class is the primary class that defines the template and the operations of a thread in python.\n",
    "* It provides all the major functionalities required to create and manage a thread.\n",
    "* The most simple way to create a multithreaded python application is to declare a class that inherits from the Thread class and overrides it's run() method.\n",
    "* Therefore, every Thread class has a run() method, and to implement threading, one should override the run() method in their respective classes.\n",
    "* Once we inherit a class from the Thread class in the threading module, we can create a Thread object from it.\n",
    "* Normally, the whole program is executed by something called the main() thread, but when we create a thread object, each object represents an activity to be performed in a separate thread of control.\n",
    "\n",
    "**#Thread Class Methods**\n",
    "* Let's have a look at some of the important methods of the Thread class,\n",
    "* **run()** - It denotes the activity of a thread and 1 can be overridden by a class that extends the Thread class.\n",
    "* **start()** - It starts the activity of a thread. It must be called only once for each thread because it will throw a runtime error if called multiple times.\n",
    "* **join()** - It blocks the execution of other code 3 until the thread on which the join() method was called gets terminated.\n",
    "* Once a thread object has been made, the start() method can be used to begin the execution of the activity, and the join() method can be used to block all other code till the current activity finishes."
   ]
  },
  {
   "cell_type": "markdown",
   "id": "183e3ab6-10e7-4f83-be32-82b2956437a4",
   "metadata": {},
   "source": [
    "**#To implement threading, we would need to do the following three things,**\n",
    "* Import threading module\n",
    "* Inherit from the Thread class and override the run() method\n",
    "* Start the execution of the threads using the start() method"
   ]
  },
  {
   "cell_type": "code",
   "execution_count": 7,
   "id": "d443c6cb-195a-4258-b466-03cbd7710ffc",
   "metadata": {},
   "outputs": [
    {
     "name": "stdout",
     "output_type": "stream",
     "text": [
      "Hello from Example\n",
      "Hello from Example\n",
      "Hello from Example\n",
      "Hello from Example\n",
      "Hello from Example\n",
      "Hello from ExampleTwo\n",
      "Hello from ExampleTwo\n",
      "Hello from ExampleTwo\n",
      "Hello from ExampleTwo\n",
      "Hello from ExampleTwo\n",
      "Hello from ExampleTwo\n"
     ]
    }
   ],
   "source": [
    "from threading import*\n",
    "\n",
    "class Example (Thread):\n",
    "    def run(self):\n",
    "        for i in range(5):\n",
    "            print(\"Hello from Example\")\n",
    "        \n",
    "\n",
    "class ExampleTwo(Thread):\n",
    "    def run(self):\n",
    "        for i in range(6):\n",
    "            print(\"Hello from ExampleTwo\")\n",
    "            \n",
    "\n",
    "example = Example()\n",
    "exampleTwo = ExampleTwo()\n",
    "example.start()\n",
    "exampleTwo.start()"
   ]
  },
  {
   "cell_type": "markdown",
   "id": "0edd0771-0467-4cec-94e8-cd1fc83813df",
   "metadata": {},
   "source": [
    "## Time\n",
    "* What we want our program to do is, if once the run() method is called from both the classes, the loop should execute the logic once and then wait for the other class to do the work.\n",
    "* Therefore, to achieve that, we would need to ask our loop to wait for a second and let the other loop execute the logic once and then carry its execution.\n",
    "* This process has to be done repeatedly - Execute-Wait-Execute.\n",
    "* We can make our code wait for a while by using the Time module. Time module helps us to work with \"time\" in Python.\n",
    "* We can use the sleep() method which accepts time in seconds as parameters and makes the code go to sleep(wait) for that amount of time."
   ]
  },
  {
   "cell_type": "code",
   "execution_count": 9,
   "id": "548b0320-08c3-45a2-9148-fb1a0a367b7d",
   "metadata": {},
   "outputs": [
    {
     "name": "stdout",
     "output_type": "stream",
     "text": [
      "Hello from Example\n",
      "Hello from ExampleTwo\n"
     ]
    }
   ],
   "source": [
    "from threading import*\n",
    "from time import sleep\n",
    "\n",
    "class Example (Thread):\n",
    "    def run(self):\n",
    "        for i in range(5):\n",
    "            print(\"Hello from Example\")\n",
    "            sleep(1)\n",
    "        \n",
    "\n",
    "class ExampleTwo(Thread):\n",
    "    def run(self):\n",
    "        for i in range(5):\n",
    "            print(\"Hello from ExampleTwo\")\n",
    "            sleep(1)\n",
    "\n",
    "example = Example()\n",
    "exampleTwo = ExampleTwo()\n",
    "example.start()\n",
    "sleep(0.1)\n",
    "exampleTwo.start()"
   ]
  },
  {
   "cell_type": "markdown",
   "id": "9957ad71-c6a0-4067-96ee-33cf0c151687",
   "metadata": {},
   "source": [
    "**#More on threading**\n",
    "* In the previous section, we created two threads that were responsible for the execution of the two logics of both classes.\n",
    "* But, so far, when we did not create any thread manually, how did our programs execute?\n",
    "* Because, as we know, each process is handled by a thread, therefore, when we execute any Python program, there is one thread already running by default called the main thread.\n",
    "* The main thread is responsible for the execution of the programs in Python.\n",
    "* That said, in the last example, the main thread had nothing to do. Its job was to just create two threads, the rest was handled by the new threads."
   ]
  },
  {
   "cell_type": "code",
   "execution_count": 11,
   "id": "16ca5ebf-e500-4895-977e-02398a4c0c80",
   "metadata": {},
   "outputs": [
    {
     "name": "stdout",
     "output_type": "stream",
     "text": [
      "Hello from Example\n",
      "Hello from ExampleTwo\n",
      "End of the program\n"
     ]
    }
   ],
   "source": [
    "from threading import*\n",
    "from time import sleep\n",
    "\n",
    "class Example (Thread):\n",
    "    def run(self):\n",
    "        for i in range(5):\n",
    "            print(\"Hello from Example\")\n",
    "            sleep(1)\n",
    "        \n",
    "\n",
    "class ExampleTwo(Thread):\n",
    "    def run(self):\n",
    "        for i in range(5):\n",
    "            print(\"Hello from ExampleTwo\")\n",
    "            sleep(1)\n",
    "\n",
    "example = Example()\n",
    "exampleTwo = ExampleTwo()\n",
    "example.start()\n",
    "sleep(0.1)\n",
    "exampleTwo.start()\n",
    "print(\"End of the program\")"
   ]
  },
  {
   "cell_type": "markdown",
   "id": "d1b7e2d5-8102-454d-ac6e-082b9971acb8",
   "metadata": {},
   "source": [
    "**Problem with the Main Thread**\n",
    "* Oh well, here's a new problem. What we would have expected is that the \"End of the program\" should be printed in the end. But that's not the case here.\n",
    "* This is because once the main thread creates two new threads, its job is done. The rest of the work is handled by the newly created threads.\n",
    "* With nothing more to do, the main thread looks for any more statements to execute and thus prints the final statement without realizing that the other two threads are still in execution.\n",
    "* This is the problem with the main thread.\n",
    "* We need to handle this and tell the main thread to wait until the other two threads are done executing their part and then join the party!\n",
    "* Rings a bell? If you can recall, the Thread class provides the join() method for this.\n",
    "* The join() method blocks the execution of other code (work of main thread) until the thread on which the join() method is called gets terminated."
   ]
  },
  {
   "cell_type": "code",
   "execution_count": 3,
   "id": "6cda2b15-a672-475c-b414-6b8b46f42482",
   "metadata": {},
   "outputs": [
    {
     "name": "stdout",
     "output_type": "stream",
     "text": [
      "Hello from Example\n",
      "Hello from ExampleTwo\n",
      "Hello from Example\n",
      "Hello from ExampleTwo\n",
      "Hello from Example\n",
      "Hello from ExampleTwo\n",
      "Hello from Example\n",
      "Hello from ExampleTwo\n",
      "Hello from Example\n",
      "Hello from ExampleTwo\n",
      "End of the program\n"
     ]
    }
   ],
   "source": [
    "from threading import*\n",
    "from time import sleep\n",
    "\n",
    "class Example (Thread):\n",
    "    def run(self):\n",
    "        for i in range(5):\n",
    "            print(\"Hello from Example\")\n",
    "            sleep(1)\n",
    "        \n",
    "\n",
    "class ExampleTwo(Thread):\n",
    "    def run(self):\n",
    "        for i in range(5):\n",
    "            print(\"Hello from ExampleTwo\")\n",
    "            sleep(1)\n",
    "\n",
    "example = Example()\n",
    "exampleTwo = ExampleTwo()\n",
    "example.start()\n",
    "sleep(0.1)\n",
    "exampleTwo.start()\n",
    "example.join()\n",
    "exampleTwo.join()\n",
    "print(\"End of the program\")"
   ]
  },
  {
   "cell_type": "markdown",
   "id": "d6acf7c0-871f-4131-9bec-a6622f59ee37",
   "metadata": {},
   "source": [
    "**Problem with the Main Thread**\n",
    "* Implementing multithreading is often referred to as concurrent programming.\n",
    "* Creating applications that support concurrency is the need of the hour, but working with concurrent programming is a bit complicated.\n",
    "* When we talk about multithreading and concurrent programming, one must keep in mind the following two important problems (situations) that you might encounter,\n",
    "* **Deadlocks**\n",
    "* **Race conditions**\n",
    "\n",
    "**Deadlocks**\n",
    "* Deadlock is a situation where a set of processes are blocked because each process is holding a resource and waiting for another resource acquired by some other process.\n",
    "* The best way to understand deadlocks is by using the classic computer science example problem known as the **Dining Philosophers Problem.**\n",
    "* The problem statement for dining philosophers is as follows:\n",
    "* Five philosophers are seated on a round table  with five plates of spaghetti and five forks\n",
    "* At any given time, a philosopher must either eat or think.\n",
    "* Moreover, a philosopher must take the two forks adjacent to him (i.e., the left and right forks) before he can eat the spaghetti. The problem of deadlock occurs when all five philosophers pick up their right forks simultaneously.\n",
    "* Since each of the philosophers has one fork, they will all wait for the others to put their fork down. As a result, none of them will be able to eat spaghetti.\n",
    "* Thinking on a hungry stomach!! Can't even think of it!!!\n",
    "* Similarly, in a concurrent system, a deadlock occurs when different threads or processes (philosophers) try to acquire the shared system resources (forks) at the same time.\n",
    "* As a result, none of the processes get a chance to execute as they are waiting for another resource held by some other process.\n",
    "* **Deadlocks is a situation where a set of processes are blocked because each process is holding a resource and waiting for another resource acquired by some other process.**\n",
    "\n",
    "**Race conditions**\n",
    "* A race condition is an undesirable situation that occurs when a device or system attempts to perform two or more operations at the same time, but, because of the nature of the device or system, the operations must be done in the proper sequence to be done correctly.\n",
    "* Consider the following example,\n",
    "* **`i=0;`**\n",
    "* **`for x in range(100):`**\n",
    "* **`print(i)`**\n",
    "* **`i+=1;`**\n",
    "* If you create 'n' number of threads that run this code at once, you cannot determine the value of i (which is shared by the threads) when the program finishes execution.\n",
    "* This is because in a real multithreading environment, the threads can overlap, and the value of i which was retrieved and modified by a thread can change in between when some other thread accesses it.\n",
    "* **A race condition is a situation that occurs when a system attempts to perform two or more operations at different times.**"
   ]
  },
  {
   "cell_type": "markdown",
   "id": "67b54820-7950-4fa2-ac60-304c6730c4ad",
   "metadata": {},
   "source": [
    "**Synchronization**\n",
    "* Deadlocks and race conditions are the two main problems that can occur in a multithreaded python application.\n",
    "* To deal with race conditions, deadlocks, and other thread-based issues, the threading module provides the Lock object.\n",
    "* In the threading module, for efficient multithreading, a primitive lock is used. This lock helps us in the synchronization of two or more threads.\n",
    "\n",
    "**Lock Object**\n",
    "* The simple idea is that when a thread wants access to a specific resource, it acquires a lock for that resource.\n",
    "* Once a thread locks a particular resource, no other thread can access it until the lock is released.\n",
    "* As a result, the changes to the resource will be atomic i.e. no half-modified values being available to other threads, and race conditions will be averted.\n",
    "* A lock is a low-level synchronization primitive implemented by the threading module. At any given time, a lock can be in one of two states: locked or unlocked.\n",
    "* Following are the two main methods of the Lock object,\n",
    "* **acquire()** - When the lock-state is unlocked, calling the acquire() method will change the state to locked and return. However, If the state is locked, the call to acquire() is blocked until the release() method is called by some other thread.\n",
    "* **release()** - The release() method is used to set the state to unlocked, that is to release a lock. It can be called by any thread, not necessarily the one that acquired the lock."
   ]
  },
  {
   "cell_type": "code",
   "execution_count": 31,
   "id": "513e01d1-da43-4eec-abdd-0b7890bf9f15",
   "metadata": {},
   "outputs": [
    {
     "name": "stdout",
     "output_type": "stream",
     "text": [
      "Lock acquired\n",
      "Hello from Example\n",
      "Lock acquired\n",
      "Hello from ExampleTwo\n",
      "Lock acquired\n",
      "Hello from Example\n",
      "Lock acquired\n",
      "Hello from ExampleTwo\n"
     ]
    }
   ],
   "source": [
    "from threading import*\n",
    "import threading\n",
    "from time import sleep\n",
    "\n",
    "lock = threading.Lock()\n",
    "\n",
    "class Example (Thread):\n",
    "    def run(self):\n",
    "        for i in range(3):\n",
    "            lock.acquire()\n",
    "            print(\"Lock acquired\")\n",
    "            print(\"Hello from Example\")\n",
    "            sleep(1)\n",
    "            lock.release()\n",
    "        \n",
    "\n",
    "class ExampleTwo(Thread):\n",
    "    def run(self):\n",
    "        for i in range(3):\n",
    "            lock.acquire()\n",
    "            print(\"Lock acquired\")\n",
    "            print(\"Hello from ExampleTwo\")\n",
    "            sleep(1)\n",
    "            lock.release()\n",
    "\n",
    "example = Example()\n",
    "exampleTwo = ExampleTwo()\n",
    "example.start()\n",
    "sleep(0.1)\n",
    "exampleTwo.start()"
   ]
  },
  {
   "cell_type": "markdown",
   "id": "ca65be83-183c-430c-a216-778836bc478d",
   "metadata": {},
   "source": [
    "**#What we did**\n",
    "* Here, we simply create a new lock by calling the **threading.Lock()** factory function\n",
    "* Internally, Lock() returns an instance of the Lock class.\n",
    "* Then, we acquire the lock by calling the acquire() method. When the lock has been granted, we print \"Lock acquired\".\n",
    "* Once all the code that we want the thread to execute has finished execution, we simply release the lock by calling the release() method.\n",
    "* That's all for thread synchronization."
   ]
  },
  {
   "cell_type": "code",
   "execution_count": null,
   "id": "72e866c3-1c52-4d59-aa18-962b463f7e39",
   "metadata": {},
   "outputs": [],
   "source": []
  }
 ],
 "metadata": {
  "kernelspec": {
   "display_name": "Python 3 (ipykernel)",
   "language": "python",
   "name": "python3"
  },
  "language_info": {
   "codemirror_mode": {
    "name": "ipython",
    "version": 3
   },
   "file_extension": ".py",
   "mimetype": "text/x-python",
   "name": "python",
   "nbconvert_exporter": "python",
   "pygments_lexer": "ipython3",
   "version": "3.12.4"
  }
 },
 "nbformat": 4,
 "nbformat_minor": 5
}
