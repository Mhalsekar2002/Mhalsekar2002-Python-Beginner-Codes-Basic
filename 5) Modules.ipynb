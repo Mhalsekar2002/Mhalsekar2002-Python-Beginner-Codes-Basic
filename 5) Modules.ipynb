{
 "cells": [
  {
   "cell_type": "markdown",
   "id": "10b75d82-c0b6-494b-92e3-0991f4acd50a",
   "metadata": {},
   "source": [
    "# Module \n",
    "* **It imports all prewritten codes**\n",
    "* **`\"import module_name\"`**"
   ]
  },
  {
   "cell_type": "markdown",
   "id": "758340db-8537-4892-9754-a87f1e28a95b",
   "metadata": {},
   "source": [
    "## `from' Syntax\n",
    "* To import a module, we use the 'import' keyword. But what import does is, it imports the whole module into our project.\n",
    "* But there are instances where we just need a particular part for that module, and adding the whole module won't make sense. It will also affect the speed of our program.\n",
    "* Thus, the idea is to import just the required part from that module into our file.\n",
    "* To do that, Python provides us with the 'from' syntax as shown below,\n",
    "* **`from module_name import something`**\n",
    "* where 'something' can be a part of the module such as a function or a class or a static variable. Well, we will dive deep into that later."
   ]
  },
  {
   "cell_type": "markdown",
   "id": "88b1da22-6b4b-4f50-ba66-8e5179a44ef9",
   "metadata": {},
   "source": [
    "# Math Module :-\n",
    "* This modules includes trignometric, Log, representation, angle conversion functions, etc.\n",
    "* **`\"import math\"`**"
   ]
  },
  {
   "cell_type": "markdown",
   "id": "01864e67-9a97-46f6-8344-ecada5fa96d2",
   "metadata": {},
   "source": [
    "# Few imp math module functn\n",
    "\n",
    "* **ceil(x)** - Returns smallest integer greater than or equal to x\n",
    "* **floor(x)** - Returns largest integer less than or equal to x\n",
    "* **fabs(x)** - Returns the absolute value of x\n",
    "* **factorial(x)** - Returns the factorioal of x\n",
    "* **fmod(x,y)** - Returns remainder when x is divided by y\n",
    "* **log2(x)** - Returns the base2 log of x\n",
    "* **log10(x)**- Returns the base10 log of x\n",
    "* **pow(x,y)** - Returns x raised to power y\n",
    "* **sqrt(x)** - Returns the square root of x\n",
    "* **trunc(x)** - Returns the truncated integer value of x"
   ]
  },
  {
   "cell_type": "code",
   "execution_count": 36,
   "id": "36574f2e-5e8c-4766-b349-ff26ec16fa8b",
   "metadata": {},
   "outputs": [
    {
     "name": "stdout",
     "output_type": "stream",
     "text": [
      "2.0\n",
      "5.0\n",
      "7\n",
      "6\n",
      "256.0\n",
      "4\n",
      "4.857980995127572\n"
     ]
    }
   ],
   "source": [
    "#Eg of math modules\n",
    "import math\n",
    "print(math.sqrt(4))\n",
    "print(math.fabs(-5))\n",
    "print(math.ceil(6.4))\n",
    "print(math.floor(6.4))\n",
    "print(math.pow(4,4))\n",
    "print(math.trunc(4.999))\n",
    "print(math.log2(29))"
   ]
  },
  {
   "cell_type": "markdown",
   "id": "9bde41d5-3ba6-435d-8be9-914d5f36a741",
   "metadata": {},
   "source": [
    "# Tip:To use any functn or var from module we use syntax\n",
    "* **`module_name.function()`**"
   ]
  },
  {
   "cell_type": "markdown",
   "id": "58871912-46b1-4e16-8f96-b7aba5342977",
   "metadata": {},
   "source": [
    "# Math Module Trignometric Functions\n",
    "* **sin(x)** - Return the sine of x in radians\n",
    "* **cosinesin(x)** - Return the cosine of x in radians\n",
    "* **tan(x)** - Return the tangent of x in radians\n",
    "* **degree(x)** - Converts angle x from radians to degrees\n",
    "* **radians(x)** - Converts angle x from degree to radians"
   ]
  },
  {
   "cell_type": "code",
   "execution_count": 1,
   "id": "f77912b1-531e-4398-94e1-754f13933060",
   "metadata": {},
   "outputs": [
    {
     "name": "stdout",
     "output_type": "stream",
     "text": [
      "0.5061454830783556\n",
      "2578.3100780887044\n",
      "0.0\n",
      "0.5253219888177297\n"
     ]
    }
   ],
   "source": [
    "#Eg of Math Module Trignometric Functions\n",
    "import math\n",
    "print(math.radians(29))\n",
    "print(math.degrees(45))\n",
    "print(math.sin(0))\n",
    "print(math.cos(45))"
   ]
  },
  {
   "cell_type": "markdown",
   "id": "9cff4805-5d42-47d1-9cc9-377e907a0cd5",
   "metadata": {},
   "source": [
    "# Constants\n",
    "* Constants play an important role in mathematics.\n",
    "* A mathematical constant is a key number whose value is fixed by an unambiguous definition, often referred to by a symbol.\n",
    "* To use these constants in Python, the Python math module offers a variety of predefined constants.\n",
    "#Having access to these constants provides several advantages,\n",
    "* For one, you don't have to manually hard-code them into your application, which saves you a lot of time.\n",
    "* Plus, they provide consistency throughout your code.\n",
    "## Python Mathematical Constants\n",
    "* Pi : c/d = 3.14\n",
    "* Tau  : 2pi = 6.28\n",
    "* Eulers number(e) : irratinal nos with infinite decimal places.  e = 2.718\n",
    "* infinity : Never ending nos"
   ]
  },
  {
   "cell_type": "code",
   "execution_count": 23,
   "id": "833163c5-352b-4a4a-aae7-32c1c78d77a8",
   "metadata": {},
   "outputs": [
    {
     "name": "stdout",
     "output_type": "stream",
     "text": [
      "3.141592653589793\n",
      "6.283185307179586\n",
      "2.718281828459045\n",
      "Positive infinity inf\n",
      "Negative infinity inf\n"
     ]
    }
   ],
   "source": [
    "# Eg of Python Mathematical Constants\n",
    "print(math.pi)\n",
    "print(math.tau)\n",
    "print(math.e)\n",
    "print(\"Positive infinity\", math.inf)\n",
    "print(\"Negative infinity\", math.inf)"
   ]
  },
  {
   "cell_type": "code",
   "execution_count": 36,
   "id": "857fa19e-9645-4db8-9ac7-41e7b7d25daf",
   "metadata": {},
   "outputs": [
    {
     "name": "stdin",
     "output_type": "stream",
     "text": [
      "Enter the radius of circle 5\n"
     ]
    },
    {
     "name": "stdout",
     "output_type": "stream",
     "text": [
      "area of circle 78.53981633974483\n"
     ]
    }
   ],
   "source": [
    "# Eg of Python Mathematical Constants\n",
    "import math\n",
    "radius=int(input(\"Enter the radius of circle\"))\n",
    "area=math.pi*radius*radius\n",
    "print(\"Area of circle\",area)"
   ]
  },
  {
   "cell_type": "markdown",
   "id": "cc7a59f2-364d-4afe-82ca-1e692e350f61",
   "metadata": {},
   "source": [
    "# Random modules\n",
    "* Python has a built-in random module that you can use to generate random numbers.\n",
    "* It defines a set of functions that are used to generate or manipulate random numbers.\n",
    "* This particular type of function is used in a lot of games, lotteries, or any application requiring a random number generation.\n",
    "* The random module is widely used while working with concepts such as data science, image processing, and more.\n",
    "* Syntax :-**`import random`**\n",
    "## Python radom module types\n",
    "* **seed(x)** - Initialize the random number generator\n",
    "* **randrange (x, y, step)** - Returns a random number between the given range\n",
    "* **randint(x,y)** - Returns a random number between the given range\n",
    "* **choice (sequence)** - Returns a random element from the given sequence\n",
    "* **shuffle (sequence)** - Takes a sequence and returns the sequence in a random order\n",
    "* **random()** - Returns a random float number between O and 1"
   ]
  },
  {
   "cell_type": "code",
   "execution_count": 106,
   "id": "32a8f34f-f515-4536-80d9-c80cad3007ea",
   "metadata": {},
   "outputs": [
    {
     "name": "stdout",
     "output_type": "stream",
     "text": [
      "0.926506623785866\n",
      "54\n",
      "9\n",
      "1\n"
     ]
    }
   ],
   "source": [
    "#Eg of Python radom module\n",
    "import random\n",
    "#generating random number between 0 and 10\n",
    "print(random.random())\n",
    "\n",
    "#generating random number between 1 and 100 \n",
    "print(random.randint(1,100))\n",
    "\n",
    "#generating random number between 1 and 10 \n",
    "print(random.randrange (1,10))\n",
    "\n",
    "#generating random number between 1 and 10 with step size of 2\n",
    "print(random.randrange (1,10,2))"
   ]
  },
  {
   "cell_type": "code",
   "execution_count": 82,
   "id": "649f1f3f-f992-4647-891c-2b5adf60030b",
   "metadata": {},
   "outputs": [
    {
     "name": "stdout",
     "output_type": "stream",
     "text": [
      "4\n",
      "4\n",
      "7\n",
      "1\n"
     ]
    }
   ],
   "source": [
    "#Eg of Python radom module\n",
    "print(random.randrange (1,10,3))\n",
    "print(random.randrange (1,10,3))\n",
    "print(random.randrange (1,10,3))\n",
    "print(random.randrange (1,10,3))"
   ]
  },
  {
   "cell_type": "code",
   "execution_count": 150,
   "id": "748f102e-6f24-4c88-935e-e0c8e668cd3a",
   "metadata": {},
   "outputs": [
    {
     "name": "stdin",
     "output_type": "stream",
     "text": [
      "Guess a number in the range 1-10: 6\n"
     ]
    },
    {
     "name": "stdout",
     "output_type": "stream",
     "text": [
      "You have got it right!\n"
     ]
    }
   ],
   "source": [
    "#Game of Python radom module\n",
    "import random\n",
    "generatedNumber = random.randint(1, 10) \n",
    "userGuess = int(input(\"Guess a number in the range 1-10:\"))\n",
    "if userGuess == generatedNumber:\n",
    "    print(\"You have got it right!\")\n",
    "elif userGuess < generatedNumber: \n",
    "    print ('Your guess is too low')\n",
    "else: \n",
    "    print ('Your guess is too high')"
   ]
  },
  {
   "cell_type": "code",
   "execution_count": null,
   "id": "0835b5ac-c95e-470a-9945-0d2c5d400e82",
   "metadata": {},
   "outputs": [],
   "source": []
  }
 ],
 "metadata": {
  "kernelspec": {
   "display_name": "Python 3 (ipykernel)",
   "language": "python",
   "name": "python3"
  },
  "language_info": {
   "codemirror_mode": {
    "name": "ipython",
    "version": 3
   },
   "file_extension": ".py",
   "mimetype": "text/x-python",
   "name": "python",
   "nbconvert_exporter": "python",
   "pygments_lexer": "ipython3",
   "version": "3.12.4"
  }
 },
 "nbformat": 4,
 "nbformat_minor": 5
}
