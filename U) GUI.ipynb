{
 "cells": [
  {
   "cell_type": "markdown",
   "id": "1312d4bd-a287-4dba-af26-62b500e72dbc",
   "metadata": {},
   "source": [
    "# GUI\n",
    "#**What is a GUI?**\n",
    "* First, let's try to understand the term UI. UI stands for User Interface.\n",
    "* The UI is anything that a computer uses to interact with someone using the computer.\n",
    "* Similarly, a GUI is a UI, which uses graphics to interact with the user. GUI stands for Graphical User Interface.\n",
    "* This can be buttons, menus, images, and more. The GUI for many programs differs in layout and exact function.\n",
    "* All those buttons and icons you see on your computer are part of the Graphical User Interface.\n",
    "* GUI stands for Graphical User Interface.\n",
    "* It is a system of interactive visual components for computer software. It displays objects that convey information, and represent actions that can be taken by the user.\n",
    "* The objects change color, size, or visibility when the user interacts with them.\n",
    "* All those buttons and icons you see on your computer are part of the Graphical User Interface.\n",
    "* In this subject, we will learn how to develop a GUI using Python. So, with this basic understanding of GUI, let's move ahead."
   ]
  },
  {
   "cell_type": "markdown",
   "id": "c2c2254e-ddd7-4b49-ae12-0cec14692539",
   "metadata": {},
   "source": [
    "## Tkinter\n",
    "* Python is a general-purpose programming language and therefore is used in many fields.\n",
    "* One such field is GUI development or desktop application development. Python provides many libraries for the same such as,\n",
    "* Tkinter\n",
    "* Kivy\n",
    "* Python Qt\n",
    "* wxPython\n",
    "* We will be using a Python library Tkinter in this subject for the GUI development in Python. Let's dive straight into it...\n",
    "#**What is Tkinter**\n",
    "* Tkinter is the inbuilt python module that is used to create GUI applications. It is one of the most commonly used modules for creating GUI applications in Python as it is simple and easy to work with.\n",
    "* It gives an object-oriented interface to the Tk GUI toolkit.\n",
    "* Remember, we learned about something called IDLE in Python?\n",
    "* IDLE is a default IDE for Python which comes with Python installation. It is fully coded in Tkinter.\n",
    "* That's how powerful this module is when it comes to GUI development.\n",
    "#**How to use?**\n",
    "* As we have seen, Tkinter is a built-in module in Python, so there is no need to install it. We can directly import and start using it.\n",
    "* Following is how the Tkinter module import statement would look like,\n",
    "* **`import tkinter`**\n",
    "* To create a GUI app using Tkinter, we have to follow the simple steps given below,\n",
    "1) Importing the module - tkinter\n",
    "2) Create the main window\n",
    "3) Add any number of widgets to the main window\n",
    "4) Apply the event Trigger on the widgets\n",
    "* Let's dive into the world of GUI development using Tkinter and see how it works in the upcoming topics."
   ]
  },
  {
   "cell_type": "markdown",
   "id": "a0a0613f-31d8-4f17-9656-4484a90c5302",
   "metadata": {},
   "source": [
    "# Introduction to Widgets\n",
    "#**Visual Components**\n",
    "* A GUI is a system of interactive visual components for computer software.\n",
    "* Talking about visual components, a GUI comprises various elements such as Buttons, Text(called Labels), Images, Menu, and more.\n",
    "* Tkinter provides us with these common GUI elements which we can use to build out the interface.\n",
    "* These elements are called Widgets.\n",
    "#**Widgets**\n",
    "* In simple words, a Widget is an element of the GUI that displays information or provides a way for the user to interact with the OS.\n",
    "* Therefore, widgets are the elements of GUI applications that provide various controls such as Labels, Buttons, ComboBoxes, CheckBoxes, MenuBars, RadioButtons, and many more to users to interact with the application.\n",
    "#**Representation of Widgets**\n",
    "* Therefore, we understand that widgets in Tkinter are the basic building blocks of the Python GUI application. But, how are they represented in Python?\n",
    "* In Tkinter, Widgets are represented as objects, that is, instances of classes that represent them such as the Button class for the button widget, Frame class for the frame widget, and so on.\n",
    "* So, each separate widget is a Python object.\n",
    "* When creating a widget, you must pass its parent (the parent container that will hold the widget) as a parameter to the widget creation function.\n",
    "#**Widget Classes**\n",
    "* As we know, to use a widget, we will need to create the object of their respective class. Below are a few of the frequently used widget classes,\n",
    "* **Label** - It is used to provide a single-line caption for other widgets. In simple words, It is used to display text and can also contain images.\n",
    "* **Button** - It is used to add buttons to your application. These buttons can perform various actions when clicked.\n",
    "* **Entry** - It is just like the Python input() function, but more GUI in nature. It is used to accept single-line input from the user.\n",
    "* **Text** - It is a text entry widget that allows multiline text entry.\n",
    "* **Frame** - It is used as a container widget to organize other widgets.\n",
    "* **ComboBox** - It contains a down arrow to select from the list of available options. It is just like a dropdown list\n",
    "* **Checkbutton** - It is used to display a number of options as checkboxes. The user can select multiple options at a time\n",
    "* **Radiobutton** - It is used to display a number of options as radio buttons. The user can select only one option at a time\n",
    "* **PanedWindow** - It is a container widget that may contain any number of panes, arranged horizontally or vertically\n",
    "* **Canvas** - It is used to draw shapes, such as lines, ovals, polygons, and rectangles, in your application\n",
    "* **tkMessageBox** - Well, it's not a widget but a complete Python module. It is used to display message(dialog) boxes in our applications."
   ]
  },
  {
   "cell_type": "markdown",
   "id": "38e94751-6582-4879-a45b-e0ecea7cd7f8",
   "metadata": {},
   "source": [
    "# Fisrt GUI\n",
    "#**Window**\n",
    "* In this section, we will create our first GUI app using Tkinter in Python.\n",
    "* The foundational element of a Tkinter GUI is the window. A window is a container in which all other GUI elements, i.e. the widgets, are placed.\n",
    "* In this section, let's see how we can create a simple GUI window. Then from the next section, we will start adding widgets to our window."
   ]
  },
  {
   "cell_type": "code",
   "execution_count": 79,
   "id": "85f7e23d-87cf-4e38-ac92-7027146d10ec",
   "metadata": {},
   "outputs": [],
   "source": [
    "# Fisrt GUI\n",
    "from tkinter import *\n",
    "window = Tk()\n",
    "window.mainloop()"
   ]
  },
  {
   "cell_type": "markdown",
   "id": "454a1291-f1e0-419e-8a6e-f1a44cb7b86c",
   "metadata": {},
   "source": [
    "## Explanation of above code\n",
    "* Congratulations! You just created your first GUI app in Python...\n",
    "* Now, let's breakdown and try to understand what we did in the previous code,\n",
    "#__Line 1 - from tkinter import *__\n",
    "* Here we are using the from...import syntax to import the tkinter module. Note that, for Python version 3 and above, we use tkinter while in the old versions of Python, we used Tkinter.\n",
    "* By import * we import everything (methods, variables, classes, and more) in a way so we don't need to prefix them when using them.\n",
    "#**Line 2 - window = Tk()**\n",
    "* Now we create a root window, by calling the Tk(). This automatically creates a graphical window with the title bar, minimize, maximize, and close buttons.\n",
    "* Here, the 'window' is the object of class Tk() and allows us to put the contents in the window and reconfigure it as necessary.\n",
    "#**Line 3 - window.mainloop()**\n",
    "* The application window does not appear before you enter the main loop.\n",
    "* This method tells Python to take all the widgets and objects we created, render them on our screen, and respond to any interactions.\n",
    "* The program stays in the loop until we close the window."
   ]
  },
  {
   "cell_type": "markdown",
   "id": "007045e4-dd7c-478c-b3ed-1670f1829205",
   "metadata": {},
   "source": [
    "# GUI Geometry\n",
    "#**Geometry**\n",
    "* We know that a widget is an element of the GUI that displays information or gives a way for the user to interact with the OS and a window is a container in which all other GUI elements, widgets, are placed.\n",
    "* But, creating a new widget doesn't mean that it will appear on the screen. To make them appear on the screen, we need to place them on the window and organize them accordingly.\n",
    "* Therefore, before we actually move ahead and start adding widgets to our window, let's learn the concept of Geometry Management.\n",
    "#**Geometry Management**\n",
    "* The layout of the application in Tkinter is controlled by the Geometry Managers. It helps us to place and organize various widgets in the window.\n",
    "* Therefore, to display it, we need to call a special geometry management method.\n",
    "* All Tkinter widgets have access to specific geometry management methods, which have the purpose of organizing widgets throughout the parent widget area.\n",
    "* Following are the three methods provided by Tkinter for the same,\n",
    "* **pack()**\n",
    "* **grid()**\n",
    "* **place()**\n",
    "#**pack() method**\n",
    "* The pack geometry manager organizes widgets in blocks before placing them in the parent widget. It places the widgets in the given order as they are created.\n",
    "* Below is how the pack geometry manager works,\n",
    "* It computes a rectangular area called a parcel that's just tall and wide enough to hold the widget and fills the remaining area in the window with blank space\n",
    "* It centers the widget in the parcel unless a different location is specified\n",
    "* We can use the pack() method to specify the pack geometry manager,\n",
    "* **`widget.pack(pack_options)`**\n",
    "* Here, widget is the GUI widget that you want to place in the parent container.\n",
    "* pack() is called on the widget that we wish to place\n",
    "* This method takes various optional options (parameters) that help us to manipulate the widget while using the pack manager\n",
    "#**Pack Method Options**\n",
    "* The pack() method takes the following options,\n",
    "* **expand** - It takes a boolean value. When set to true, the widget expands to fill any space in the widget's parent\n",
    "* **fill**- It determines whether the widget fills any extra space allocated to it by the packer, or keeps its own minimal dimensions. It can have the following values: NONE (default), X (fill only horizontally), Y (fill only vertically), or BOTH (fill both horizontally and vertically)\n",
    "* **side** - It determines on which side of the parent widget should the new widget be placed . Following are it's possible values: TOP (default), BOTTOM, LEFT, or RIGHT"
   ]
  },
  {
   "cell_type": "markdown",
   "id": "c14b1b54-cde4-4ba9-81e6-5985a31be142",
   "metadata": {},
   "source": [
    "**grid() method**\n",
    "* The grid geometry manager organizes widgets in a table-like structure in the parent widget.\n",
    "* Therefore, in simple words, it puts the widgets in a 2-dimensional table.\n",
    "* The parent container is split into a number of rows and columns, and each cell in the resulting table can hold a widget.\n",
    "* It is one of the most generally used geometry managers in Tkinter and we can use the grid() to implement the grid geometry,\n",
    "* **`widget.grid(grid_options)`**\n",
    "* Here, widget is the GUI widget that you want to place in the parent container.\n",
    "* grid() is called on the widget that we wish to place\n",
    "* This method takes various optional options (parameters) that help us to manipulate the widget while using the grid manager\n",
    "#**Grid Method Options**\n",
    "* Generally, the grid() method takes the following options,\n",
    "* **row** - It is the row to put the widget in. The default is the first row that is still empty\n",
    "* **column** - It is the column to put the widget in. The default is O (leftmost column)\n",
    "* **rowspan** - It specifies how many rows the widget occupies. The default value is 1\n",
    "* **columnspan** - It specifies how many columns the widget occupies. The default value is 1\n",
    "* **sticky** - It helps to center the widget in the cell. It can have the values like - N, E, S, W, NE, • NW, SE, and SW which are the compass directions indicating the sides and corners of the cell to which the widget sticks."
   ]
  },
  {
   "cell_type": "markdown",
   "id": "e5ecca97-a04d-4f41-8612-e5ff9a4d2bed",
   "metadata": {},
   "source": [
    "**place method()**\n",
    "* The place geometry manager organizes widgets by placing them in a specific position in the parent widget. It is the simplest of the three general geometry managers provided in Tkinter.\n",
    "* It allows you to explicitly set the position and size of a window, either in absolute terms, or relative to another window.\n",
    "* We can use the place() method to specify the pack geometry manager,\n",
    "* **`widget.place(place_options)`**\n",
    "* Here, widget is the GUI widget that you want to place in the parent container.\n",
    "* place() is called on the widget that we wish to place\n",
    "* This method takes various optional options (parameters) that help us to manipulate the widget while using the place manager\n",
    "#**Place Method Options**\n",
    "* Generally, the place() method takes the following options,\n",
    "* **height, width** - It specifies the height and width in pixels\n",
    "* **x, y** - It specifies the horizontal and vertical offset in pixels\n",
    "* **relx, rely** - It specifies the horizontal and vertical offset as a float between 0.0 and 1.0, basically as a fraction of the height and width of the parent widget\n",
    "* **relheight, relwidth** - It specifies the horizontal and vertical offset as a float between 0.0 and 1.0, basically as a fraction of the height and width of the parent widget\n",
    "* **bordermode** - It has two possible values that help to manipulate the border - INSIDE (default) to indicate that other options refer to the parent's inside (ignoring the parent's border) or OUTSIDE otherwise."
   ]
  },
  {
   "cell_type": "markdown",
   "id": "97c44346-73a8-40a1-b96d-6fd592b7f15f",
   "metadata": {},
   "source": [
    "# Working with Widgets\n",
    "**Adding Widgets**\n",
    "* It's time that we fill the empty window that we had created earlier with a few widgets and create a simple and amazing GUI application.\n",
    "* Let's create a GUI application that has the following,\n",
    "* Label widget with Text to show the name of our app.\n",
    "* Label widget with Image (As we know, we can add images using the Label widget) to add our logo.\n",
    "* Entry widget to accept the name of the user.\n",
    "* Button widget to show a Let's Start button.\n",
    "#**Label Widget**\n",
    "* Before we move ahead, let's have a detailed overview of these widgets one-by-one, and slowly we will start adding them to our GUI.\n",
    "* Starting with the Label widget -\n",
    "* Label widget is used to display text or images. The text displayed by a Label widget can't be edited by the user. It's for display purposes only. * * * Following is the syntax of the Label widget,\n",
    "* **`objectName = Label (parent, options)`**\n",
    "* Here,\n",
    "* objectName will be the object of the Label class. We can give any name to it just like a variable name\n",
    "* Label() is the call to the Label class that has two parameters, the parent and the options\n",
    "* The parent parameter represents the parent window in which the widget will be placed\n",
    "* The options are the additional parameters that help to manipulate and customize the Label"
   ]
  },
  {
   "cell_type": "markdown",
   "id": "bb682851-7f7d-4b1c-a0f2-307d93ab41ff",
   "metadata": {},
   "source": [
    "**Label Widget Options**\n",
    "* Following are some of the options of the Label widget,\n",
    "* **text** - It defines the text that we wish to display. We can pass the text value that we want as a string enclosed in doubles quotes\n",
    "* **underline** - It helps to display an underline below the nth letter of the text, counting from O, by setting this option to n. The default is  underline=-1, which means no underlining\n",
    "* **justify** - It specifies how multiple lines of text will be aligned with respect to each other: LEFT for flush left, CENTER for centered (the default), or RIGHT for right-justified\n",
    "* **image** - It is used to display a static image in the label widget. It accepts an image object as it's value\n",
    "* **bg** - It helps us to set the background color of the label\n",
    "* **fg** - It helps us to set the foreground color that is the color of the text in the label\n",
    "* **font** - It helps us to specify and manipulate the font family and size. We can specify the font family and size as a tuple\n",
    "* **Note** - The color values in the background and foreground options can be the color name of the color code"
   ]
  },
  {
   "cell_type": "code",
   "execution_count": 9,
   "id": "586acfe1-f533-457f-bed4-38452805bb82",
   "metadata": {},
   "outputs": [],
   "source": [
    "# Adding labels\n",
    "from tkinter import *\n",
    "window = Tk()\n",
    "name = Label(window, text='PythonX - Learn Python', bg='white', fg='Blue', font=('Serif', 16))\n",
    "name.pack()\n",
    "window.mainloop()"
   ]
  },
  {
   "cell_type": "markdown",
   "id": "cb1de08d-c90b-4282-85c1-ed8d3fbed476",
   "metadata": {},
   "source": [
    "* Observe that, here we are using the pack() method to use the pack geometry management that will simply add the widget to the parent window as a block container."
   ]
  },
  {
   "cell_type": "markdown",
   "id": "70d37aae-0fbb-4344-8ee3-48fe02c938d5",
   "metadata": {},
   "source": [
    "**Label Widget with Image**\n",
    "* We already know that we can use the image object to add an image to the label widget. But how do we create a label widget with image?\n",
    "* Python provides a third-party module called Pillow that helps us to work with images in Python\n",
    "* Using the pillow module, we can create image objects, read images, manipulate and modify images, and more.\n",
    "* Open your command-line and hit the following command to install Pillow,\n",
    "* **`pip install Pillow`**"
   ]
  },
  {
   "cell_type": "code",
   "execution_count": 5,
   "id": "15146e6d-b601-4142-8068-c2d960535af6",
   "metadata": {},
   "outputs": [
    {
     "name": "stdout",
     "output_type": "stream",
     "text": [
      "Requirement already satisfied: Pillow in d:\\anaconda\\lib\\site-packages (10.3.0)\n",
      "Note: you may need to restart the kernel to use updated packages.\n"
     ]
    }
   ],
   "source": [
    "pip install Pillow"
   ]
  },
  {
   "cell_type": "code",
   "execution_count": 67,
   "id": "ce163237-3f46-414e-afa9-37db0f41aeee",
   "metadata": {},
   "outputs": [],
   "source": [
    "from PIL import Image\n",
    "img = Image.open(\"C:/Users/prath/Pictures/Screenshots/WhatsApp Image 2025-01-17 at 13.47.12_8c0cd763.jpg\")\n",
    "img.show()"
   ]
  },
  {
   "cell_type": "markdown",
   "id": "1107358a-6087-4014-9ec3-a8b55930d5fa",
   "metadata": {},
   "source": [
    "**Working with Pillow**\n",
    "* Following is the code to read and open an image for our local system,\n",
    "* PIL is nothing but an extension of the pillow. We import the Image class from it that provides us various methods to work with images.\n",
    "* We simply open using the open() method by passing the name/path of the image and then use the show() method on the image object to display the image.\n",
    "* The output of the program will simply result in opening the image in the photo viewer of your machine."
   ]
  },
  {
   "cell_type": "code",
   "execution_count": 4,
   "id": "7ce06ad2-3f7d-4c94-b2d9-35eb246f7c41",
   "metadata": {},
   "outputs": [],
   "source": [
    "from tkinter import *\n",
    "from PIL import ImageTk, Image\n",
    "window = Tk()\n",
    "name = Label(window, text = 'PythonX - Learn Python', bg='white', fg='Blue', font=('Serif', 16))\n",
    "img = Image.open(\"C:/Users/prath/Pictures/Screenshots/WhatsApp Image 2025-01-17 at 13.47.12_8c0cd763.jpg\")\n",
    "logo = ImageTk.PhotoImage(img)\n",
    "image = Label(window, image=logo)\n",
    "name.pack()\n",
    "image.pack()\n",
    "window.mainloop()"
   ]
  },
  {
   "cell_type": "markdown",
   "id": "c006d038-86a2-4299-a4e8-4b10ead104ef",
   "metadata": {},
   "source": [
    "**Entry Widget**\n",
    "* So far, we are halfway done with our PythonX GUI. Now let's move ahead and see how we can create an input field to accept the name of the user.\n",
    "* As we have seen previously, we can use the Entry widget to accept single-line input from a user. Following is the syntax of the Entry widget,\n",
    "* **`objectName = Entry (parent, options)`**\n",
    "* Here, objectName will be the object of the Entry class. We can give any name to it just like a variable name\n",
    "* Entry() is the call to the Label class that has two parameters, the parent and the options\n",
    "* The parent parameter represents the parent window in which the widget will be placed\n",
    "* The options are the additional parameters that help to manipulate and customize the Entry field"
   ]
  },
  {
   "cell_type": "markdown",
   "id": "25f5627d-87b8-48ed-8b44-5035774a942a",
   "metadata": {},
   "source": [
    "**Entry Widget Options**\n",
    "* Following are some of the options of the Entry widget,\n",
    "* **bg** - It helps us to set the background color of the entry widget that is the background of the input field\n",
    "* **fg**- It helps us to set the foreground color of the entry widget that is the foreground of the input field\n",
    "* **command** - It specifies the method to be called every time the user changes the state of the entry field\n",
    "* **font** - It helps us to specify and manipulate the font family and size. We can specify the font family and size as a tuple\n",
    "* **justify** - It specifies how multiple lines of text will be aligned with respect to each other: LEFT for flush left, CENTER for centered (the default), or RIGHT for right-justified\n",
    "* **show** - Generally, the characters that the user types appear in the entry. But this option helps us to echo each character by the given character/symbol.\n",
    "* **state** - It helps us to specify the state of the entry widget. The default is state=NORMAL, but you can use state=DISABLED to gray out the control and make it unresponsive. If the cursor is currently over the widget, the state is ACTIVE.\n",
    "#**Entry Widget Methods**\n",
    "* The entry widget also has some built-in methods that can be called on the entry object.\n",
    "* These methods help to manipulate the widget based on some interaction.\n",
    "* Following are a few methods of the Entry class,\n",
    "* **get()** - It returns the entry's current text as a string. In simple words, it is used to fetch the value that has been entered into the entry field.\n",
    "* **delete()** - It deletes characters from the widget\n",
    "* **insert (index, 'data')** - It inserts string 'data' before the character at the given index.\n",
    "* There are a few more options and methods provided by the Entry class. But these are the most general ones."
   ]
  },
  {
   "cell_type": "code",
   "execution_count": 80,
   "id": "168302f3-3aa6-42e9-9493-3438426d22f6",
   "metadata": {},
   "outputs": [],
   "source": [
    "#Adding Entry\n",
    "from tkinter import *\n",
    "from PIL import ImageTk, Image\n",
    "\n",
    "window = Tk()\n",
    "window.title('PythonX - Learn Python')\n",
    "\n",
    "name = Label(window, text='PythonX - Learn Python', bg='white', fg='Blue', font=('Serif', 16))\n",
    "name.pack()\n",
    "\n",
    "\n",
    "img = Image.open(\"C:/Users/prath/Pictures/Screenshots/WhatsApp Image 2025-01-17 at 13.47.12_8c0cd763.jpg\")\n",
    "logo = ImageTk.PhotoImage(img)\n",
    "image = Label(window, image=logo)\n",
    "image.pack()\n",
    "\n",
    "username = Label(window, text='Username:')\n",
    "username.pack(side=LEFT)\n",
    "\n",
    "inputBox = Entry(window)\n",
    "inputBox.pack(side=RIGHT)\n",
    "\n",
    "window.mainloop()\n",
    "\n"
   ]
  },
  {
   "cell_type": "markdown",
   "id": "f8228b27-112b-4858-9501-8b0e99b09cc5",
   "metadata": {},
   "source": [
    "**Button Widget**\n",
    "* The final part of our PythonX GUI app is to add a button. So, let's do that -\n",
    "* As we know, we can use a Button widget to add clickable buttons to our GUI.\n",
    "* Later, they can be configured to call a function whenever they're clicked and therefore making your application interactive. Following is the syntax of the Button widget,\n",
    "* **`objectName = Button (parent, options)`**\n",
    "* The syntax is almost the same to add any type of widget, so you know the drill, right? Let's move ahead.\n",
    "#**Button Widget Options**\n",
    "* Following are some of the options of the Button widget,\n",
    "* **text** It defines the text that we wish to display on the button\n",
    "* **bg** - It helps us to set the background color of the button\n",
    "* **fg** - It helps us to set the foreground color that is the color of the text on the button\n",
    "* **command** - It specifies the function or method to be called when the button is clicked.\n",
    "* **font** - It helps us to specify and manipulate the font family and size. We can specify the font family and size as a tuple\n",
    "* **height, weight** - It specifies the height and the width of the button in pixels\n",
    "* **image** - It is used to display a static image on the button. It accepts an image object as its value\n",
    "* **state** - It helps us to specify the state of the button widget. The default is state=NORMAL, but you can use state=DISABLED to gray out the control and make it unresponsive. If the cursor is currently over the widget, the state is ACTIVE."
   ]
  },
  {
   "cell_type": "code",
   "execution_count": 13,
   "id": "ffe866ec-3e0a-4fcf-a0d5-4a5d82f2f4a4",
   "metadata": {},
   "outputs": [],
   "source": [
    "#Adding Entry\n",
    "from tkinter import *\n",
    "from PIL import ImageTk, Image\n",
    "\n",
    "window = Tk()\n",
    "window.title('PythonX - Learn Python')\n",
    "\n",
    "name = Label(window, text='PythonX - Learn Python', bg='white', fg='Blue', font=('Serif', 16))\n",
    "name.pack()\n",
    "\n",
    "img = Image.open(\"C:/Users/prath/Pictures/Screenshots/WhatsApp Image 2025-01-17 at 13.47.12_8c0cd763.jpg\")\n",
    "logo = ImageTk.PhotoImage(img)\n",
    "image = Label(window, image=logo)\n",
    "image.pack()\n",
    "\n",
    "username = Label(window, text='Username:', font=('Serif', 12))\n",
    "username.pack(side=LEFT)\n",
    "\n",
    "inputBox = Entry(window)\n",
    "inputBox.pack(side=RIGHT)\n",
    "\n",
    "button = Button(window, text=\"Let's Start\")\n",
    "button.place(x=100, y=350)\n",
    "\n",
    "window.mainloop()\n"
   ]
  },
  {
   "cell_type": "markdown",
   "id": "e482437b-79a7-4891-9883-fee45bba0063",
   "metadata": {},
   "source": [
    "* Here, we have added the place() method to place the Button in our GUI. If we use pack(), then it won't create any problems, but just to make sure that the button is at the end of all the elements, we are placing it at our custom location."
   ]
  },
  {
   "cell_type": "markdown",
   "id": "25c80cab-489b-4b27-bd9e-058f03c37ef1",
   "metadata": {},
   "source": [
    "**In this section, we will get our hands-on,**\n",
    "* Frame widget\n",
    "* Checkbutton widget\n",
    "* Radiobutton widget"
   ]
  },
  {
   "cell_type": "markdown",
   "id": "4508725b-b7c2-46cc-9523-b0daf3fac916",
   "metadata": {},
   "source": [
    "## Frame Widget\n",
    "* A frame is used as a container widget to organize other widgets.\n",
    "* It uses rectangular areas in the screen to organize the layout and to provide padding for these widgets.\n",
    "* Basically, we can create a frame widget in our parent window, and instead of adding the widgets directly to the parent window, we can add them to the frame container.\n",
    "* Following is the syntax of the Frame widget,\n",
    "* **`objectName = Frame(parent, options)`**\n",
    "#Following are some of the options of the Frame widget,\n",
    "* **height** - It is the vertical dimension of the new frame\n",
    "* **width** - The default widget depends on the widgets that it contains. We can also manually set the width using the width option\n",
    "* **bg** - It helps us to set the background color of the frame"
   ]
  },
  {
   "cell_type": "code",
   "execution_count": 27,
   "id": "d32f82f7-9445-4f63-a0b0-43e3118599a8",
   "metadata": {},
   "outputs": [],
   "source": [
    "# Frame Example\n",
    "# Let's create a simple GUI with a Label and a Button and add them to the window using the Frame widget,\n",
    "from tkinter import *\n",
    "window = Tk()\n",
    "frame = Frame(window)\n",
    "lbl = Label(frame, text='Inside the frame')\n",
    "btn = Button(frame, text='Inside the frame')\n",
    "frame.pack()\n",
    "lbl.pack(side=TOP)\n",
    "btn.pack(side=BOTTOM)\n",
    "window.mainloop()"
   ]
  },
  {
   "cell_type": "markdown",
   "id": "54cf21fb-a3ff-4c6c-a03a-3ff8e03ac02a",
   "metadata": {},
   "source": [
    "## Checkbutton Widget\n",
    "* Checkbutton widget is used to display a number of options as checkboxes.\n",
    "* The user can then select one or more options by clicking the button corresponding to each option.\n",
    "* Following is the syntax of the Checkbutton widget,\n",
    "* **`objectName = Checkbutton (parent, options)`**\n",
    "#Following are some of the options of the Checkbutton widget,\n",
    "* **offvalue** - A checkbutton's associated control variable will be set to O when it is cleared (off). You can supply an alternate value for the off state by setting offvalue to that value\n",
    "* **onvalue** - A checkbutton's associated control variable will be set to 1 when it is set (on). You can supply an alternate value for the on-state by setting onvalue to that value\n",
    "* **state** - It helps us to specify the state of the checkbutton widget. The default is state=NORMAL, but you can use state=DISABLED to gray out the control and make it unresponsive. If the cursor is currently over the widget, the state is ACTIVE\n",
    "* **text** - It is the label displayed next to the checkbutton\n",
    "* **image** - It is used to display a graphic image on the button\n",
    "* **command** - It specifies the method to be called every time the user changes the state of the checkbutton\n",
    "#**Checkbutton Methods**\n",
    "* The checkbutton widget also has some built-in methods that can be called on the checkbutton object.\n",
    "* These methods help to manipulate the widget based on some interaction. Following are a few methods of the Checkbutton class,\n",
    "* **deselect()** - It clears the selected check button\n",
    "* **invoke()** - We can call this method to get the same actions that would occur if the user clicked on the checkbutton to change its state\n",
    "* **select()** - It sets/checks the checkbutton\n",
    "* There are a few more options and methods provided by the Checkbutton class. But these are the most general ones."
   ]
  },
  {
   "cell_type": "code",
   "execution_count": 25,
   "id": "e4313fec-ab85-4a5a-b442-550a12609f8b",
   "metadata": {},
   "outputs": [],
   "source": [
    "#Checkbutton Example\n",
    "from tkinter import *\n",
    "window = Tk()\n",
    "lbl = Label(window, text='Choose your favorite programming languages:')\n",
    "frame = Frame(window)\n",
    "python = Checkbutton (frame, text='Python')\n",
    "java = Checkbutton (frame, text='Java')\n",
    "js = Checkbutton (frame, text='JavaScript')\n",
    "cpp = Checkbutton (frame, text='C++')\n",
    "lbl.pack()\n",
    "frame.pack()\n",
    "python.pack()\n",
    "java.pack()\n",
    "js.pack()\n",
    "cpp.pack()\n",
    "window.mainloop()"
   ]
  },
  {
   "cell_type": "markdown",
   "id": "33ca78df-3956-45e2-a385-8c01d036cc1b",
   "metadata": {},
   "source": [
    "## Radiobutton Widget\n",
    "* Radiobutton widget is used to display a number of options as radio buttons.\n",
    "* It shows many possible selections to the user and lets the user choose only one of them.\n",
    "* Following is the syntax of the Checkbutton widget,\n",
    "* **`objectName = Radiobutton (parent, options)`**\n",
    "#Following are some of the options of the Radiobutton widget,\n",
    "* **text** - It is the label displayed next to the radio button\n",
    "* **image** - It is used to display a graphic image on the radio button\n",
    "* **command** - It specifies the method to be called every time the user changes the state of the radio button\n",
    "* **state** - It helps us to specify the state of the checkbutton widget. The default is state=NORMAL, but you can use state=DISABLED to gray out the control and make it unresponsive. If the cursor is currently over the widget, the state is ACTIVE\n",
    "* **variable** - It is the control variable that this radio button shares with the other radio buttons in the group. This can be either an IntVar or a StringVar\n",
    "* **value** - When a radiobutton is turned on by the user, its control variable is set to its current value option. If the control variable is an IntVar, give each radiobutton in the group a different integer value option. If the control variable is a StringVar, give each radiobutton a different string value option\n",
    "#**Radiobutton Methods**\n",
    "* The radiobutton widget also has some built-in methods that can be called on the radiobutton object.\n",
    "* These methods help to manipulate the widget based on some interaction. Following are a few methods of the Radiobutton class,\n",
    "* **deselect()** - It clears the selected radio button\n",
    "* **invoke()** - We can call this method to get the same actions that would occur if the user clicked on the radiobutton to change its state\n",
    "* **select()** - It sets/checks the radiobutton\n",
    "* There are a few more options and methods provided by the Radiobutton class. But these are the most general ones."
   ]
  },
  {
   "cell_type": "code",
   "execution_count": 88,
   "id": "4d44e113-abea-41a0-b564-df005cb8684c",
   "metadata": {},
   "outputs": [],
   "source": [
    "# Radiobutton Example\n",
    "from tkinter import *\n",
    "window = Tk()\n",
    "lbl = Label(window, text='Gender:')\n",
    "var = StringVar()\n",
    "male = Radiobutton (window, text='Male',\n",
    "variable=var, value='M')\n",
    "female = Radiobutton (window, text='Female',\n",
    "variable=var, value='F')\n",
    "lbl.pack()\n",
    "male.pack()\n",
    "female.pack()\n",
    "window.mainloop()"
   ]
  },
  {
   "cell_type": "markdown",
   "id": "9cd33fd6-9d6a-413e-aaf3-d366d5e6f1bf",
   "metadata": {},
   "source": [
    "* Note that, when we work with radio buttons, it is necessary to specify the variable option that denotes the radio group."
   ]
  },
  {
   "cell_type": "markdown",
   "id": "fa3c64a1-55aa-4779-a3c5-602cb931550d",
   "metadata": {},
   "source": [
    "## tkMessageBox\n",
    "* tkMessageBox is yet another GUI tool in Tkinter that is used to display various types of pop-up and dialog boxes.\n",
    "* But, unlike other GUI tools which are widgets, tkMessageBox is a Python module.\n",
    "* But, in Python3, we cannot use tkMessageBox. Instead, we can use something called messagebox which is exactly the same as tkMessageBox, just a Python3 version.\n",
    "* Following is how you would import it before using it,\n",
    "* **`from tkinter import messagebox`**\n",
    "#**Syntax**\n",
    "* The messagebox is used to display various types of pop-up and dialog boxes. Once we have imported it, we can use it using the following syntax,\n",
    "* **`messagebox.functionName (title, message, options)`**\n",
    "* Here,\n",
    "* **function Name**: It is the name of the appropriate message box function. Each function creates and displays a different kind of message box.\n",
    "* **title:** It is the text to be displayed in the title bar of a message box.\n",
    "* **message:** It is the text to be displayed as a message.\n",
    "* **options**: These are the alternative choices that you may use to tailor a standard message box. Some of the options that you can use are default and parent. The default option is used to specify the default button, such as ABORT, RETRY, or IGNORE in the message box. The parent option is used to specify the window on top of which the message box is to be displayed.\n",
    "#**messageBox Functions**\n",
    "* There are different functions that help us to create and display various message boxes.\n",
    "* Following are some of the functions of the messagebox,\n",
    "* showinfo()\n",
    "* showwarning()\n",
    "* showerror ()\n",
    "* askquestion()\n",
    "* askokcancel()\n",
    "* askyesno()\n",
    "* These functions work just like their name suggests. Don't worry! In the upcoming sections, we will implement and create message boxes that will help you understand this whole part easily."
   ]
  },
  {
   "cell_type": "markdown",
   "id": "918a8221-df13-45be-a1a2-e84f3de4b992",
   "metadata": {},
   "source": [
    "# Making Interactive Applications\n",
    "## Event Handling\n",
    "* So far, we have covered quite a lot in GUI development using Tkinter Python. Now, we can create amazing GUI applications with the help of various widgets.\n",
    "* That's great, but applications shouldn't just look amazing, they actually need to do something!\n",
    "* Therefore, in this section, we will learn how to give life to our applications so that they can perform various actions whenever the user interacts with them and handle events."
   ]
  },
  {
   "cell_type": "markdown",
   "id": "bebc70d5-0804-47ec-a6ca-0d39e854d901",
   "metadata": {},
   "source": [
    "## Event and Event Handling\n",
    "* When we create a GUI in Tkinter, we make a call to the mainloop() method.\n",
    "* This method internally starts the event loop.\n",
    "* An event loop is responsible for the event handling and it continuously waits for events to happen.\n",
    "* During the event loop, your application checks if an event has occurred. If so, then some code can be executed in response.\n",
    "* Therefore, in simple words, an event is any action that occurs during the event loop that might trigger some behavior in the application, such as when a key or mouse button is pressed.\n",
    "* When an event occurs, an event object is emitted, which means that an instance of a class representing the event is instantiated.\n",
    "* Tkinter provides a mechanism to let the programmer deal with events. For each widget, it's possible to bind functions to an event.\n",
    "* Therefore, if the defined event occurs in the widget, we can call the respective handler function on the event object.\n",
    "* The handler functions are the function that has the logic of what to do if an event has occurred."
   ]
  },
  {
   "cell_type": "markdown",
   "id": "7b4a2156-6b6f-4f55-a4e9-a0b39368a99b",
   "metadata": {},
   "source": [
    "**Event Handling in Tkinter**\n",
    "* There are two ways to make our GUI application interactive,\n",
    "* **Using the bind() function**\n",
    "* **Using the command option**\n",
    "* Let's learn them one by one."
   ]
  },
  {
   "cell_type": "markdown",
   "id": "39219e5b-e13b-4e87-908f-76e0854db3a4",
   "metadata": {},
   "source": [
    "## The bind () function\n",
    "* Whenever an event occurs, we can call the event handler function using the bind() function provided by the Tkinter module.\n",
    "* The bind function bounds the event and executes the function whenever the events occur.\n",
    "* Following is the syntax for the same,\n",
    "* **`widget.bind(event, handler)`**\n",
    "* Here, widget is the Tkinter widget that you want to bind with an event\n",
    "* As discussed, the bind() function is used to handle the events\n",
    "* It takes two arguments - An **event** that is represented by a string of the form < event_name >, where event_name can be any of Tkinter's events, and an **event handler** that's the name of the function to be called whenever the event occurs"
   ]
  },
  {
   "cell_type": "markdown",
   "id": "255dd657-eacb-47ce-8a8b-173513104125",
   "metadata": {},
   "source": [
    "## Events in Python\n",
    "There are various types of events in Tkinter that we can target using the bind() method. Some of these are,\n",
    "* **< Button >**: It specifies that the mouse button\n",
    "is pressed with the mouse pointer over the widget. The left mouse button is defined by the event < Button-1 >, the middle button by < Button-2 >, and the rightmost mouse button by < Button-3 >.\n",
    "* **< ButtonRelease >**: It specifies that the button is released. To specify the left, middle or right mouse button use < Button Release-1 >, < Button Release-2 >, and < Button Release-3 > respectively.\n",
    "* **< Double-Button >**: It is similar to the Button event, but here the button is double-clicked instead of a single click. To specify the left, middle or right mouse button use < Double- Button-1 >, < Double-Button-2 >, and < Double- Button-3 > respectively.\n",
    "* **< Focusin >**: It specifies that the keyboard focus was moved to this widget, or to a child of this widget.\n",
    "* **< FocusOut >**: It specifies that the keyboard focus was moved from this widget to another widget.\n",
    "* **< Key >**: It specifies that the user pressed any key."
   ]
  },
  {
   "cell_type": "markdown",
   "id": "4ecf62f8-c697-4986-8066-772ae99034f9",
   "metadata": {},
   "source": [
    "**The command option**\n",
    "* There are two ways to handle events in Tkinter.The bind() method and the command option.Now let's talk about the command option.\n",
    "* We know, generally, all the widgets provide us with the command option that calls a method whenever the user interacts or changes the state of the widget.\n",
    "* Following is the syntax for the same,\n",
    "* **`objectName = Widget (command = function_name)`**\n",
    "* It is one of the simplest ways to work with events in Tkinter."
   ]
  },
  {
   "cell_type": "markdown",
   "id": "85ad60e1-62db-43a7-b1ea-7a07ec5581f1",
   "metadata": {},
   "source": [
    "# Handling Events\n",
    "## PythonX GUI App\n",
    "* We know what events are and how to work with them in Tkinter. Now, let's go back to our PythonX GUI app and make it interactive by handling events in it.\n",
    "* We will handle events in it using both ways so that you get enough idea of how the bind() and command works.\n",
    "* Before we move ahead, let's update our PythonX GUI app and add the label \"Username\" and entry field into a frame so that it would better fit into the layout."
   ]
  },
  {
   "cell_type": "code",
   "execution_count": 16,
   "id": "3401104d-fee4-4382-8a22-c07772a4a7fd",
   "metadata": {},
   "outputs": [],
   "source": [
    "# Updated Code\n",
    "from tkinter import *\n",
    "from PIL import ImageTk, Image\n",
    "window = Tk()\n",
    "\n",
    "name = Label(window, text='PythonX - Learn Python', bg='white', fg='Blue', font=('Serif', 16))\n",
    "img = Image.open(\"C:/Users/prath/Pictures/Screenshots/WhatsApp Image 2025-01-17 at 13.47.12_8c0cd763.jpg\")\n",
    "logo = ImageTk.PhotoImage(img)\n",
    "image = Label(window, image=logo)\n",
    "\n",
    "frame = Frame(window)\n",
    "username = Label(window, text='Username:', font=('Serif', 12))\n",
    "inputBox = Entry(frame)\n",
    "button = Button(window, text=\"Let's Start\")\n",
    "\n",
    "name.pack()\n",
    "image.pack()\n",
    "frame.pack()\n",
    "username.pack(side=LEFT)\n",
    "inputBox.pack(side=RIGHT)\n",
    "button.pack(side=BOTTOM)\n",
    "window.mainloop()"
   ]
  },
  {
   "cell_type": "code",
   "execution_count": 20,
   "id": "7b5f3561-942b-4832-a2dd-ef8d6af1321e",
   "metadata": {},
   "outputs": [],
   "source": [
    "#Using the command option\n",
    "from tkinter import *\n",
    "from PIL import ImageTk, Image\n",
    "from tkinter import messagebox\n",
    "\n",
    "def gui():\n",
    "    window = Tk()\n",
    "    name = Label(window, text='PythonX - Learn Python', bg='white', fg='Blue', font=('Serif', 16))\n",
    "    img = Image.open(\"C:/Users/prath/Pictures/Screenshots/WhatsApp Image 2025-01-17 at 13.47.12_8c0cd763.jpg\")\n",
    "    logo = ImageTk.PhotoImage(img)\n",
    "    image = Label(window, image=logo)\n",
    "\n",
    "    frame = Frame(window)\n",
    "    username = Label(frame, text='Username', font=('Serif', 12))\n",
    "    inputBox = Entry(frame)\n",
    "    button = Button(window, text=\"Let's Start\", command=showMessage)\n",
    "\n",
    "    name.pack()\n",
    "    image.pack()\n",
    "    frame.pack()\n",
    "    username.pack(side=LEFT)\n",
    "    inputBox.pack(side=RIGHT)\n",
    "    button.pack(side=BOTTOM)\n",
    "    window.mainloop()\n",
    "\n",
    "def showMessage():\n",
    "    messagebox.showinfo('PythonX - Learn Python', 'Welcome')\n",
    "\n",
    "if __name__ == '__main__':\n",
    "    gui()\n"
   ]
  },
  {
   "cell_type": "markdown",
   "id": "6a64b80c-df5f-47a2-be58-b6ddd178ff31",
   "metadata": {},
   "source": [
    "## Using the command option\n",
    "* Looks quite simple, right?\n",
    "* We have added our GUI code into a function called gui(), just to format our code and for better readability.\n",
    "* The gui() is then called in the main section in the special variable name.\n",
    "* We have simply defined a method called showMessage() that shows a message box.\n",
    "* Finally, in the button, we add the command option and pass the name of the handler method as the value.\n",
    "* It shall produce the following output when the button is clicked,"
   ]
  },
  {
   "cell_type": "markdown",
   "id": "6ae0b17c-523e-4d58-9070-63e68f4364b9",
   "metadata": {},
   "source": [
    "## Using the bind() function\n",
    "* Handling events with a command option is quite simple. Now let's use the bind() function.\n",
    "* We shall update our GUI such that whenever the button is clicked, it shall show the welcome message with the name of the user.\n",
    "* Thus, we will need to fetch the name from the entry field and add it as text to a label."
   ]
  },
  {
   "cell_type": "code",
   "execution_count": 6,
   "id": "f2778e77-a5f4-4639-bc32-66c44ce86246",
   "metadata": {},
   "outputs": [],
   "source": [
    "from tkinter import *\n",
    "from PIL import ImageTk, Image\n",
    "from tkinter import messagebox\n",
    "\n",
    "def greetUser(event):\n",
    "    username = inputBox.get()\n",
    "    greet['text'] = 'Welcome ' + username\n",
    "\n",
    "window = Tk()\n",
    "name = Label(window, text='PythonX - Learn Python', bg='white', fg='Blue', font=('Serif', 16))\n",
    "img = Image.open(\"C:/Users/prath/Pictures/Screenshots/WhatsApp Image 2025-01-17 at 13.47.12_8c0cd763.jpg\")\n",
    "logo = ImageTk.PhotoImage(img)\n",
    "image = Label(window, image=logo)\n",
    "\n",
    "frame = Frame(window)\n",
    "username = Label(frame, text='Username', font=('Serif', 12))\n",
    "inputBox = Entry(frame)\n",
    "button = Button(window, text=\"Let's Start\")\n",
    "button.bind('<Button-1>', greetUser)\n",
    "greet = Label(window)\n",
    "\n",
    "name.pack()\n",
    "image.pack()\n",
    "frame.pack()\n",
    "username.pack(side=LEFT)\n",
    "inputBox.pack(side=RIGHT)\n",
    "button.pack()\n",
    "greet.pack()\n",
    "window.mainloop()"
   ]
  },
  {
   "cell_type": "markdown",
   "id": "cc1c97ed-0abd-4656-a901-46468d96463e",
   "metadata": {},
   "source": [
    "## Using the bind() function\n",
    "* We have created a method greetUser() which is our handler function.\n",
    "* As we know, when we use the bind() function, whenever an event occurs the event object is instantiated which has to be passed as the parameter to the handler function.\n",
    "* In the greetUser() method, we get the value of the entry field using its get() method which returns the text as a string.\n",
    "* Then we simply set the value to the text option of the label greet. If you observe, we have created an empty label greet for that purpose.\n",
    "* We can access the option of widgets using the following syntax,\n",
    "* **`objectName[\"optionName\"] = value`**\n",
    "* Finally, we call the bind() method over the button object.\n",
    "* Since we want to handle the left mouse button click, we use the event name as Button-1 and pass the name of the handler function as the second parameter.\n",
    "* It shall produce the following output when the button is clicked,"
   ]
  },
  {
   "cell_type": "code",
   "execution_count": null,
   "id": "f263f0dc-818c-4136-988d-9afccfa39e8d",
   "metadata": {},
   "outputs": [],
   "source": []
  }
 ],
 "metadata": {
  "kernelspec": {
   "display_name": "Python 3 (ipykernel)",
   "language": "python",
   "name": "python3"
  },
  "language_info": {
   "codemirror_mode": {
    "name": "ipython",
    "version": 3
   },
   "file_extension": ".py",
   "mimetype": "text/x-python",
   "name": "python",
   "nbconvert_exporter": "python",
   "pygments_lexer": "ipython3",
   "version": "3.12.4"
  }
 },
 "nbformat": 4,
 "nbformat_minor": 5
}
