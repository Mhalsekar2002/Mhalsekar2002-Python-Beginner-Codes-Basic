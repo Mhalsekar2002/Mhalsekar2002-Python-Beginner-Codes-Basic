{
 "cells": [
  {
   "cell_type": "markdown",
   "id": "fe413ae3-9a31-47bb-a58c-0956a4b6989c",
   "metadata": {},
   "source": [
    "# Data and Databases\n",
    "* Modern applications create a lot of data.\n",
    "* In simple words, data is some raw information that has been collected or created and it can be of any type such as numeric, words, digital, and more.\n",
    "* All these data have to be stored and processed in such a way that one can access them anytime.\n",
    "* This data is stored in a database.\n",
    "* A database is a systematic collection of data or in simple words, it is an organized collection of data.\n",
    "* It is a collection of information that is organized so that it can easily be accessed, managed, and updated."
   ]
  },
  {
   "cell_type": "markdown",
   "id": "3eb1925b-0293-4802-aca3-b3275d86c203",
   "metadata": {},
   "source": [
    "## Relational Database\n",
    "* Databases play a major role in the development of an application. As we know, databases help us to store, access, and manipulate data.\n",
    "* We can categorize databases into various categories based on how they store and process data. One of the most common types of database is the Relational database.\n",
    "* **A relational database stores the data in the form of tables**.\n",
    "* **A table is a collection of related data entries where the data is stored in rows and columns.**\n",
    "* **You can visualize it just like a spreadsheet.**"
   ]
  },
  {
   "cell_type": "markdown",
   "id": "dd01ff70-90c2-40fe-abaa-cf22d0adb272",
   "metadata": {},
   "source": [
    "## RDMS\n",
    "* Let's talk about something called **Database Management System (DBMS).It is a collection of programs that enable the users to access databases, manipulate data, report and represent data, and also control access to the database.**\n",
    "* Hence, a relational database is often referred to as a Relational Database Management System (RDBMS). It is one of the most popular DBMS in the industry.\n",
    "* To work with relational database systems, we use something called SQL.**SQL is the standard language for relational database systems.**"
   ]
  },
  {
   "cell_type": "markdown",
   "id": "bd09f419-ca4c-4a82-8ee9-6de6aba957dc",
   "metadata": {},
   "source": [
    "## SQL\n",
    "* Structured Query Language, commonly known as SQL, is a standard programming language for relational databases.\n",
    "* It helps in storing, manipulating, and retrieving data stored in a relational database.\n",
    "* Using SQL, you can query, update, and reorganize data, as well as create and modify the schema (structure) of a database system and control access to its data."
   ]
  },
  {
   "cell_type": "markdown",
   "id": "ef455100-3325-4d18-bfac-37e3939101b3",
   "metadata": {},
   "source": [
    "## MySQL\n",
    "* As we have seen, SQL is the standard language for relational database systems.\n",
    "* But, there are different versions of the SQL language.Some of the examples are MySQL, MS Access, Oracle, Sybase, Informix, Postgres, SQL Server, and more which depend on SQL and use it as the base.\n",
    "* MySQL is one such version of SQL that we will be using throughout this section to work with Python.\n",
    "* **MySQL is a freely available open-source Relational Database Management System (RDBMS) that uses Structured Query Language (SQL).**\n",
    "* **It is one of the best RDBMS being used for developing various web-based software applications.**\n",
    "* **MySQL is compatible with all the major operating systems and works pretty well with major programming languages such as Java, Python, PHP, C++, and more.**\n",
    "* Thus, let's move ahead and install MySQL and learn the basic concepts of MySQL before we learn how to work with it in Python."
   ]
  },
  {
   "cell_type": "markdown",
   "id": "ccc892b3-4c59-4c23-85a2-c8c4e34f6839",
   "metadata": {},
   "source": [
    "## Basic Termilogies\n",
    "* Before we move ahead and work with MySQL, let's have a look at some basic terminologies that you should know while working with an RDBMS.\n",
    "* Data in an RDBMS is stored in database objects which are called tables.\n",
    "* This table is basically a collection of related data entries and it consists of numerous columns and rows. Following are some related terminologies,\n",
    "* **Field** - Every table is broken up into smaller entities called fields.\n",
    "* **Record** - A record, also called a row of data, is each individual entry that exists in a table.\n",
    "* **Column** - A column is a vertical entity in a table that contains all information associated with a specific field in a table.\n",
    "* **NULL Value** - A NULL value in a table is a value in a field that appears to be blank, which means a field with a NULL value is a field with no value.\n",
    "* **Primary Key** - A primary key helps us to uniquely identify a row in the table. A key value can not occur twice in one table.\n",
    "* **Foreign Key** - A foreign key acts like a link between two tables."
   ]
  },
  {
   "cell_type": "markdown",
   "id": "852ac741-5e9e-4da7-ac9a-6751e006f728",
   "metadata": {},
   "source": [
    "# Basic of MySQL\n",
    "**Data Types in MySQL**\n",
    "* We know that in Python, data types define the type of data that will be stored in a variable.\n",
    "* Similarly, MySQL defines a set of data types that helps to store and work with different types of data in the database.\n",
    "* Following are some of the commonly used data types in MySQL,\n",
    "* **INT** - It is a normal-sized integer. We can specify a width of up to 11 digits. It requires 4 bytes for storage.\n",
    "* **FLOAT(m,d)** - It is a floating-point number. You can define the display length (m) and the number of decimals (d).This is not required and will default to 10,2, where 2 is the number of decimals, and 10 is the total number of digits (including decimals).\n",
    "* **BOOL** - It is used only for true and false conditions. It considers numeric value 1 as true and O as false.\n",
    "* **CHAR(size)** - It can have a maximum size of 255 characters. Here size is the number of characters to store.\n",
    "* **VARCHAR(size)** - It can have a maximum size of 255 characters. Here size is the number of characters to store. Variable-length string.\n",
    "* MySQL defines many different categories of data and their types.\n",
    "* The above are the few that we will be commonly using."
   ]
  },
  {
   "cell_type": "markdown",
   "id": "216c72db-a6d2-40bf-bd9f-c48eede55c9b",
   "metadata": {},
   "source": [
    "## Creating a Database\n",
    "* Now, let's create our first database in MySQL and learn how to use it.\n",
    "* Often, the very first step will be to create a database.\n",
    "* To create a database in MySQL we can use the CREATE DATABASE statement, below is the syntax for the same,\n",
    "* **`CREATE DATABASE database_name;`**\n",
    "* Here, database_name is the name of a new database that should be unique in the MySQL\n",
    "* Also, every statement in MySQL should terminate with a semicolon.\n",
    "* Now open up your MySQL command-line client and enter your password to access the MySQL shell.\n",
    "* Once you are into the shell, hit the below command to create a database named 'pythonx'.\n",
    "* **`CREATE DATABASE pythonx;`**\n",
    "* `Output`\n",
    "* `Query OK, 1 row affected`"
   ]
  },
  {
   "cell_type": "markdown",
   "id": "1083e18f-f4a6-4988-ab82-fd17d8a4cb17",
   "metadata": {},
   "source": [
    "## Working with Database\n",
    "* Once you have created the database, you can create various tables in it and start filling in the data.\n",
    "* In the previous screen, we had created a new database named 'pythonx'.\n",
    "* Below is the command that will return all the databases available in your system, you should be able to find the pythonx database in there,\n",
    "* **`SHOW DATABASES;`**\n",
    "* `Output`\n",
    "* `information_schema`\n",
    "* `mysql`\n",
    "* `performance_schema`\n",
    "* `test`\n",
    "* `pythonx`"
   ]
  },
  {
   "cell_type": "markdown",
   "id": "b90758c9-054c-4c35-946b-101b9e569a44",
   "metadata": {},
   "source": [
    "* Once the database is ready, before you actually start using it, you need to tell your system which database you wish to execute the upcoming operations.\n",
    "* Thus, we can use the USE statement to access the database that enables us to create a table and other database objects. Below is the syntax for the same,\n",
    "* **`USE database_name;`**\n",
    "* Here, database_name is the name of a database that you wish to use\n",
    "* Let's use our 'pythonx' database and learn how we can create tables and add and fetch data from the tables.\n",
    "* Hit the below command to access the pythonx database,\n",
    "* **`USE pythonx;`**\n",
    "* `Output`\n",
    "* `Database changed`"
   ]
  },
  {
   "cell_type": "markdown",
   "id": "cb5b7495-9d0f-47ae-9a55-87927f32fe69",
   "metadata": {},
   "source": [
    "* There are situations where you would need to delete a database.\n",
    "* We have seen how we can create a new database.\n",
    "* Similarly, we can delete a database using the DROP statement. Below is the syntax for the same,\n",
    "* **`DROP DATABASE database_name;`**\n",
    "* Here, database_name is the name of a database that you wish to delete/remove\n",
    "* It will delete the database along with all the tables, indexes, and constraints permanently.\n",
    "* Therefore, we should be careful while removing the database in MySQL because you will lose all the data available in the database."
   ]
  },
  {
   "cell_type": "markdown",
   "id": "d366df0a-d96b-44aa-a36c-3a3516d9a1f5",
   "metadata": {},
   "source": [
    "## Creating Tables\n",
    "* A table is used to organize data in the form of rows and columns and used for both storying and displaying records in the structured format.\n",
    "* Once our database is ready, we can execute the USE statement on it so that the system knows which database we wish to perform the operations on.\n",
    "* As of now, our 'pythonx' database is empty. Let's create a table called 'user' in it.\n",
    "* We can create a table in MySQL using the CREATE TABLE command. Following is the syntax to create a table,\n",
    "* **`CREATE TABLE table_name(columnName1 data_type, column Name2 data_type, ...);`**\n",
    "* Here, As we know, CREATE TABLE is the command used to create a table in MySQL\n",
    "* table_name is the name given to the table\n",
    "* The elements of the table are defined in the parentheses. columnName1 data_type is the column definition, where data_type defines the type of data that will be stored in the column.\n",
    "* Now, let's create a user table in our 'pythonx' database with the following constraints,\n",
    "* userld\n",
    "* username\n",
    "* email\n",
    "* userType\n",
    "* Here, we will make the constraint userld as the PRIMARY KEY. The PRIMARY KEY constraint uniquely identifies each record in a table.\n",
    "* Primary keys must contain UNIQUE values, and cannot contain NULL values. Also, a table can have only one PRIMARY KEY,\n",
    "* Following is the command to create a 'user' table,\n",
    "* **`CREATE TABLE user (userld int PRIMARY KEY, username varchar(10), email varchar(25), userType varchar(10));`**\n",
    "* *`Output`*\n",
    "* *`Query OK, 1 row affected`*\n",
    "* Since we need the userld to be unique for each record in the table, we define it as the PRIMARY KEY."
   ]
  },
  {
   "cell_type": "markdown",
   "id": "3108cb62-67c3-4e89-8ae9-7f5a79976bf7",
   "metadata": {},
   "source": [
    "## Working with Tables\n",
    "* Just like we have a SHOW DATABASES command which returns the databases in our system, similarly, we can use the SHOW TABLES command to fetch the available tables in a particular database.\n",
    "* **`SHOW TABLES;`**\n",
    "* *`Output`*\n",
    "* *`Tables_in_pythonx`*\n",
    "* *`user`*\n",
    "* Similarly, we can use the below command to delete a table from a database,\n",
    "* **`DROP TABLE table_name;`**\n",
    "* Where table_name is the name of the table you wish to delete."
   ]
  },
  {
   "cell_type": "markdown",
   "id": "c3a583b8-d1d9-402f-b85e-2d42e335b802",
   "metadata": {},
   "source": [
    "## Fetching Data\n",
    "* Once we have created the table, we can fetch the data from the table using the SELECT command.\n",
    "* The SELECT command is used to fetch data from one or more tables. There are different ways of using the SELECT command.\n",
    "* Following is the most generic syntax of a SELECT statement,\n",
    "* **`SELECT fieldName1, fieldName2,... fieldNameN`**\n",
    "* **`FROM tableName1, tableName2...`**\n",
    "* **`[WHERE condition]`**\n",
    "* **`[GROUP BY field_name(s)]`**\n",
    "* **`[HAVING condition]`**\n",
    "* **`[ORDER BY field_name(s)];`**\n",
    "* Here,\n",
    "* **`SELECT fieldName 1, fieldName2,... fieldNameN FROM tableName1, tableName2...`**\n",
    "* is the mandatory part of the SELECT command\n",
    "* All the other constraints are optional and are used to manipulate and filter the records according to the given condition (We will learn a few of them in the upcoming screens).\n",
    "* Note that, if we want to fetch the data of the whole table, we can use the following syntax,\n",
    "* **`SELECT * FROM tableName;`**\n",
    "#* Let's fetch the data from the user table. Hit the following command to get all records from the whole table,\n",
    "* **`SELECT * FROM user;`**\n",
    "* `Output`\n",
    "* `Empty set`\n",
    "* As we know, our table is empty at the moment therefore that's what is returned by the SELECT command.\n",
    "* Let's move ahead and add data to our table, and then we will try to fetch the data again."
   ]
  },
  {
   "cell_type": "markdown",
   "id": "c9acfad4-25eb-4d7f-ae7c-47d1e658f38d",
   "metadata": {},
   "source": [
    "## Inserting Data\n",
    "* We know how to create a table and fetch values from it.\n",
    "* Now, let's look at how we can insert values into our table and populate it with some data.\n",
    "* We can use the INSERT statement to store or add data in the MySQL table within the database.\n",
    "* Following is the syntax of the INSERT statement,\n",
    "* **`INSERT INTO table_name VALUES(fieldName1, fieldName2,... fieldNameN);`**\n",
    "* Remember that, we need to pass all the constraints that we had mentioned while creating the table."
   ]
  },
  {
   "cell_type": "markdown",
   "id": "5df669e6-1b7d-4e11-b1e6-860849f07947",
   "metadata": {},
   "source": [
    "## Inserting values\n",
    "* Now let's insert data into our user table. We can do that using the following command,\n",
    "* **`INSERT INTO user VALUES (1526, \"John\", \"john@example.com\", \"PRO\");`**\n",
    "* *Output*\n",
    "* *Query OK, 1 row affected*\n",
    "* **`Note that the varchar values are just like strings and thus have to be enclosed in double-quotes.`**\n",
    "* Let's add some more data,\n",
    "* **`INSERT INTO user VALUES (6745, \"Smith\", \"smith@example.com\", \"REGULAR\");`**\n",
    "* *`Output`*\n",
    "* *`Query OK, 1 row affected`*"
   ]
  },
  {
   "cell_type": "markdown",
   "id": "529cec9b-f383-435a-a668-a8abef1d4d9b",
   "metadata": {},
   "source": [
    "## Fetching Data\n",
    "* Now that we have inserted data into our user table, let's fetch it using the SELECT command in the following way,\n",
    "1) Fetch all data\n",
    "* **`SELECT * FROM user;`**\n",
    "2) Fetching particular columns\n",
    "* **`SELECT userID, userType FROM user;`**"
   ]
  },
  {
   "cell_type": "markdown",
   "id": "c340a3a6-58d7-401e-aaf5-75ff342c8e08",
   "metadata": {},
   "source": [
    "## WHERE Clause\n",
    "* We have seen in the syntax of the SELECT command that there are some optional constraints that we can use.\n",
    "* We will be learning one of those optional constraints called the WHERE clause.\n",
    "* WHERE clause is used to perform operations by filtering the results.\n",
    "* It specifies a specific position where you have to do the operation based on some condition.\n",
    "* Following is the syntax of the WHERE clause,\n",
    "* **`WHERE some_condition;`**\n",
    "* Let's use the WHERE clause to fetch the data of only the users who have the PRO subscription. Following is the command for the same,\n",
    "* **`SELECT * FROM user WHERE userType = \"PRO\";`**"
   ]
  },
  {
   "cell_type": "markdown",
   "id": "35d76714-26a5-41e2-84ba-646ab9ef3c1e",
   "metadata": {},
   "source": [
    "# Database Connection\n",
    "#**Connector**\n",
    "* But, before we move ahead to work with MySQL using Python, we will first need to connect our Python application with the MySQL database.\n",
    "* We can do that with the help of the MySQL connector.\n",
    "* MySQL Connector is a driver for connecting to a MySQL database server through the Open Database Connectivity (ODBC) application program interface (API), which is the standard means of connecting to any database.\n",
    "* MySQL provides various database connectors. Since we want to work with Python, we will use the Python Driver for MySQL which is a Python connector.\n",
    "#**mysql.connector**\n",
    "* We can connect our Python application with the MySQL database using a Python module named mysql.connector.\n",
    "* It is a third-party module that allows us to interact with the MySQL database.\n",
    "* Since it is not a built-in module, we will need to install it before using it.\n",
    "* We have seen in the 'Modules' subject how to install a third-party module in Python.\n",
    "* Hit the following command in your command- line to install mysql.connector,\n",
    "* **`pip install mysql-connector`**"
   ]
  },
  {
   "cell_type": "markdown",
   "id": "07c9f92f-2d7c-497f-bb60-984cb9e541e5",
   "metadata": {},
   "source": [
    "## Creating Connection\n",
    "* Once we have installed mysql.connector successfully, we can create a connection between the application and the database.\n",
    "* To do that, we can use the connect() method of the mysql-connector module.\n",
    "* Following is the syntax in order to use the connect() method,\n",
    "* **`databaseObject = mysql.connector.connect(host = <host-name>, user = <username>, passwd = <password>)`**\n",
    "* Here, databaseObject is the database variable that • we create to make the connection. We will use this object for further database interaction.\n",
    "* mysql.connector.connect() is how we make the call to the connect() method.It takes three parameters to create a database connection. The first one is the name of the host or the host machine.\n",
    "* Next are the username and the password of our MySQL that you might have set while installing MySQL in your systems.\n",
    "* Create a new python file and write the below code to create a database connection,\n",
    "* **`import mysql.connector`**\n",
    "* **`myDB = mysql.connector.connect(host = \"localhost\", user = \"root\", passwd = \"YOUR_PASSWORD\")`**\n",
    "* **`print(myDB)`**\n",
    "* First, we need to import the module. Then we can create the database object and pass the required values.\n",
    "* Since we are using MySQL in our local machine, the hostname will be **localhost**. In most of the cases, the default username is **root**\n",
    "* Finally, pass your MySQL password and print the database object.\n",
    "* If it produces the following output, this means the connection is successfully established.\n",
    "* `Output`\n",
    "* `<mysql.connector.connection. MySQLConnectionobject at 0x7fb142edd780>`"
   ]
  },
  {
   "cell_type": "markdown",
   "id": "5ed131c6-ec7c-4f8d-bc2d-b0ed428ef21c",
   "metadata": {},
   "source": [
    "# Creating Database and Tables\n",
    "* Once we have created the database connection object, the next step is to create the cursor object.\n",
    "* Cursor objects allow us to execute various MySQL queries and interact with the database.\n",
    "* We can create the cursor object by calling the 'cursor' function of the connection object.\n",
    "* The cursor object is an important aspect of executing queries on the databases.\n",
    "#**Cursor Object**\n",
    "* Below are the three steps that you need to follow to interact with the database and execute queries,\n",
    "1) Create the database connection object\n",
    "2) Create the cursor object\n",
    "3) Make the call to the execute() method\n",
    "* Therefore, once we have the cursor object, we can make the call to the execute() method over the cursor object and execute the required query."
   ]
  },
  {
   "cell_type": "markdown",
   "id": "80fc4698-cdd7-416f-b0ba-4319f5fdada1",
   "metadata": {},
   "source": [
    "## Creating a Database\n",
    "* Let's create the database 'pythonx' using Python,\n",
    "* **`import mysql.connector`**\n",
    "* **`myDB = mysql.connector.connect(host = \"localhost\", user = \"root\", passwd = \"YOUR_PASSWORD\")`**\n",
    "* **`myCur = myDB.cursor()`**\n",
    "* **`cur.execute(\"CREATE DATABASE pythonx\")`**\n",
    "* **`myDB.close()`**\n",
    "* As you can see in the above code, once our database connection object is created, using the connection object myDB we make the call to the cursor() method and create a cursor object called myCur.\n",
    "* Then, we make a call to the execute() method that takes the required query as the parameter.\n",
    "* Finally, it is necessary to close the connection and release the resources, thus we close the connection using myDB.close().\n",
    "* If you want to check whether the database was created or not, you can go to the MySQL shell and hit the command SHOW DATABASES.\n",
    "* You should be able to see the new database that we created.\n",
    "* You can also execute the command SHOW DATABASES using the execute() method as well.\n",
    "* But one thing to remember is, show databases return the names of all the variable databases, thus in Python, it will be returned as a list."
   ]
  },
  {
   "cell_type": "markdown",
   "id": "247961b9-1615-4f2c-848e-e8359b6ff112",
   "metadata": {},
   "source": [
    "## Creating Tables\n",
    "* Just like we did while learning MySQL, the next step after creating a database is to create a table.\n",
    "* You may have already guessed that we can directly pass the CREATE TABLE command to the execute() method.\n",
    "* And that's absolutely what we will do, but with a slight change.\n",
    "* We know that before executing any query, we need to tell MySQL on which database we want to do the operation.\n",
    "* So, to do that in Python, we will simply add the fourth parameter 'database' to our connect() method and pass the name of the database.\n",
    "* Therefore, let's create a table 'user' in our newly created 'pythonx' database.\n",
    "* **`import mysql.connector`**\n",
    "* **`myDB = mysql.connector.connect(host = \"localhost\", user = \"root\", passwd = \"YOUR_PASSWORD\", database = \"pythonx\")`**\n",
    "* **`myCur = myDB.cursor()`**\n",
    "* **`cur.execute(\"CREATE TABLE user(userld int PRIMARY KEY, username varchar(10), email varchar(25), userType varchar(10))\")`**\n",
    "* **`myDB.close()`**\n",
    "* That's it! If you go to the MySQL command-line client and hit the command SHOW TABLES while using the pythonx database, you should be able to see the user table."
   ]
  },
  {
   "cell_type": "markdown",
   "id": "d6efcc5f-a384-4233-bb16-b6b86066114c",
   "metadata": {},
   "source": [
    "# Insert and Fetch Data\n",
    "* Now, let's insert and fetch some data from the table.\n",
    "* First, let's look at the most simple way of doing that, and then we will have a look at a few more techniques.\n",
    "* Let's use the simple INSERT command to insert data into the table and fetch data using the SELECT command.\n",
    "* **`import mysql.connector`**\n",
    "* **`myDB = mysql.connector.connect(host = \"localhost\", user = \"root\", passwd = \"YOUR_PASSWORD\", database = \"pythonx\")`**\n",
    "* **`myCur = myDB.cursor()`**\n",
    "* **`cur.execute(\"INSERT INTO user VALUES (1526, \"John\", \"john@example.com\", \"PRO\")\")`**\n",
    "* **`cur.execute(\"SELECT * FROM user\")`**\n",
    "* **`result = cur.fetchall()`**\n",
    "* **`for i in result:`**\n",
    "* **`print(i)`**\n",
    "* **`myDB.close()`**\n",
    "* **Let's understand what we did,**\n",
    "* We simply executed the INSERT and SELECT commands using the execute() method.\n",
    "* When we read data from the database using Python, it provides various methods to do that.\n",
    "* When we fetch the whole table using the SELECT command, we can use the fetchall() method over the cursor object which will fetch all the rows from the table and store them in a tuple.\n",
    "* Now if you go to your MySQL command line and fetch the data, you will see nothing! Boom!\n",
    "* Where did the data disappear that we just inserted?\n",
    "* Whenever we make changes in our database or perform any operation that would manipulate the database, we will need to tell MySQL to save it and reflect the changes in the performed operation on the database.\n",
    "* We can do that using the **commit() method** as shown below,\n",
    "* **`import mysql.connector`**\n",
    "* **`myDB = mysql.connector.connect(host = \"localhost\", user = \"root\", passwd = \"YOUR_PASSWORD\", database = \"pythonx\")`**\n",
    "* **`myCur = myDB.cursor()`**\n",
    "* **`cur.execute(\"INSERT INTO user VALUES (1526, \"John\", \"john@example.com\", \"PRO\")\")`**\n",
    "* **`myDB.commit()`**\n",
    "* **`cur.execute(\"SELECT * FROM user\")`**\n",
    "* **`result = cur.fetchall()`**\n",
    "* **`for i in result:`**\n",
    "* **`print(i)`**\n",
    "* **`myDB.close()`**\n",
    "* `Output`\n",
    "* `(1526, \"John\", \"john@example.com\", \"PRO\")`\n",
    "#**Some methods**\n",
    "* Similarly, we can use any MySQL command using the execute() statement and manipulate using our Python knowledge.\n",
    "* Now let's look at some of the other important Python database methods that you should know,\n",
    "* **fetchone()** - It fetches the next row of a query result set. A result set is an object that is returned when a cursor object is used to query a table.\n",
    "* **fetchall()** - It fetches all the rows in a result set. If some rows have already been extracted from the result set, then it retrieves the remaining rows from the result set. It returns each row as an individual tuple.\n",
    "* **executemany ()** - It works just like execute(), but it is used to execute multiple database queries at a single time. It accepts a list of queries. We can pass a list that can contain the tuple elements of multiple data values that need to be inserted in the table."
   ]
  },
  {
   "cell_type": "code",
   "execution_count": 1,
   "id": "7efa5413-358f-427e-a5b5-877a0df15a1b",
   "metadata": {},
   "outputs": [
    {
     "name": "stdout",
     "output_type": "stream",
     "text": [
      "Requirement already satisfied: mysql-connector-python in d:\\anaconda\\lib\\site-packages (8.4.0)\n"
     ]
    }
   ],
   "source": [
    "!pip install mysql-connector-python"
   ]
  },
  {
   "cell_type": "code",
   "execution_count": 3,
   "id": "e2c5a679-a35e-439e-85ff-db00df17560c",
   "metadata": {},
   "outputs": [],
   "source": [
    "# importing required libraries\n",
    "import mysql.connector\n",
    "import pandas as pd\n",
    "import matplotlib.pyplot as plt\n",
    "import warnings\n",
    "warnings.filterwarnings('ignore')"
   ]
  },
  {
   "cell_type": "code",
   "execution_count": null,
   "id": "747f3111-485a-4cbe-bbe2-92d31707505c",
   "metadata": {},
   "outputs": [],
   "source": [
    "myDB = mysql.connector.connect(\n",
    "    host = \"localhost\",\n",
    "    user = \"root\",\n",
    "    password = \"PrathaM2002@\",\n",
    "    database = \"pythonx\"\n",
    ")\n",
    "\n",
    "mycursor = db.cursor() \n",
    "print(mydb)"
   ]
  },
  {
   "cell_type": "code",
   "execution_count": null,
   "id": "eb62a020-9c7e-4155-b9bb-f7ab6707415b",
   "metadata": {},
   "outputs": [],
   "source": []
  }
 ],
 "metadata": {
  "kernelspec": {
   "display_name": "Python 3 (ipykernel)",
   "language": "python",
   "name": "python3"
  },
  "language_info": {
   "codemirror_mode": {
    "name": "ipython",
    "version": 3
   },
   "file_extension": ".py",
   "mimetype": "text/x-python",
   "name": "python",
   "nbconvert_exporter": "python",
   "pygments_lexer": "ipython3",
   "version": "3.12.4"
  }
 },
 "nbformat": 4,
 "nbformat_minor": 5
}
