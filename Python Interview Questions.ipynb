{
 "cells": [
  {
   "cell_type": "markdown",
   "id": "1171233e-9086-4880-901d-b14477367b5f",
   "metadata": {},
   "source": [
    "# Python Basic Questions\n",
    "Q1. What are the benefits of using Python?\n",
    "* Answer: Python is a **general-purpose programming language** that has a simple, easy- to-learn syntax that emphasizes readability and therefore reduces the cost of program maintenance.\n",
    "* Moreover, the language is capable of scripting, completely **open-source,** and supports third- party packages that encourage modularity and code-reuse.\n",
    "* Its high-level data structures, combined with **dynamic typing and dynamic binding**, attract a huge community of developers for Rapid Application Development and Deployment.\n",
    "\n"
   ]
  },
  {
   "cell_type": "markdown",
   "id": "17c54b2f-e1b3-4db5-8833-0b0c89f00d7f",
   "metadata": {},
   "source": [
    "Q2. What is an Interpreted language?\n",
    "* Answer: An Interpreted language executes its **statements line by line.**\n",
    "* **Languages such as Python, Javascript, R, PHP, and Ruby** are some examples of Interpreted languages.\n",
    "* Programs written in an interpreted language runs directly from the source code, with no intermediary compilation step."
   ]
  },
  {
   "cell_type": "markdown",
   "id": "a74ec765-fe6b-40db-864f-606eb69b6613",
   "metadata": {},
   "source": [
    "Q3.What are the key features of Python?\n",
    "* Answer: The key features of Python are as follows,\n",
    "* **Python is an interpreted language,** so it doesn't need to be compiled before execution, unlike languages such as C.\n",
    "* Python is dynamically typed, so there is no need to declare a variable with the data type. Python Interpreter will identify the data type on the basis of the value of the variable.\n",
    "* **Python follows an object-oriented programming paradigm** with the exception of having access specifiers. Other than access specifiers (public and private keywords), Python has classes, inheritance, and all other usual OOPs concepts.\n",
    "* **Python is literally a general-purpose language,** i.e., Python finds its way in various domains such as web application development, automation, Data Science, Machine Learning, and more."
   ]
  },
  {
   "cell_type": "markdown",
   "id": "5ae4dcb4-d4d2-4d03-9a75-ff4305052225",
   "metadata": {},
   "source": [
    "Q4. Which data types are supported in Python?\n",
    "* Answer: Following are the standard data types in Python,\n",
    "**Numeric, String, Boolean, List, Tuple, Dictionary** "
   ]
  },
  {
   "cell_type": "markdown",
   "id": "5bb8e989-bf18-41cc-91fd-371c8c0c8d1e",
   "metadata": {},
   "source": [
    "Q5. State the importance of indentation in Python.\n",
    "* Answer: Indentation is necessary for Python. **It specifies a block of code. All code within loops, classes, functions, etc is specified within an indented block.**\n",
    "* **It is usually done using four space characters.**\n",
    "* If your code is not indented necessarily, it will not execute accurately and will throw errors as well"
   ]
  },
  {
   "cell_type": "markdown",
   "id": "ea0d74c9-e220-4008-b365-5bf0f121fe6d",
   "metadata": {},
   "source": [
    "# Python Core Questions\n",
    "Q1. What are lists and tuples? What is the key difference between the two?\n",
    "* Answer: **Lists and Tuples are both sequence data types that can store a collection of objects in Python.**\n",
    "* The objects stored in both sequences can have different data types. **Lists are represented with square brackets, while tuples are represented with parentheses.**\n",
    "* The key difference between the two is that while **lists are mutable**, **tuples, on the other hand, are immutable objects.**\n",
    "* This means that lists can be modified, appended, or sliced on-the-go but tuples remain constant and cannot be modified in any manner."
   ]
  },
  {
   "cell_type": "markdown",
   "id": "e89317f7-e49a-4229-a06c-d7eb1bbc295a",
   "metadata": {},
   "source": [
    "Q2. What is the pass statement in Python?\n",
    "* Answer: The pass keyword represents a **null operation in Python.**\n",
    "* **It is generally used for the purpose of filling up empty blocks of code that may execute during runtime but has yet to be written.**\n",
    "* Without the pass statement in the following code, we may run into some errors during code execution.\n",
    "* **Example:**\n",
    "* **`def example():`**\n",
    "* **`pass`**"
   ]
  },
  {
   "cell_type": "markdown",
   "id": "0f5bbbba-8bd8-4708-bbb1-44351199bdeb",
   "metadata": {},
   "source": [
    "Q3. What is string slicing in Python?\n",
    "* Answer: As the name suggests, **'slicing' is taking parts of.** In simple words, **slicing is extracting a particular part from a string.**\n",
    "* Following is the syntax of slicing in Python.\n",
    "* **`str[start: stop: step]`**\n",
    "* **start** is the starting index from where to slice a list or tuple\n",
    "* **stop** is the ending index or where to sop\n",
    "* **step** is the number of steps to jump\n",
    "* **The default value for start is O, stop is the number of items, step is 1.**\n",
    "* **Slicing can be done on strings, arrays, lists, and tuples.**"
   ]
  },
  {
   "cell_type": "markdown",
   "id": "9767d6c1-f037-4ffb-b78e-f38d8f71ad43",
   "metadata": {},
   "source": [
    "Q4. How can you randomize the items of a list in place in Python?\n",
    "* Answer: We can do that using the **shuffle() method of the random module.** Consider the following example,\n",
    "* **`import random`**\n",
    "* **`data = ['John', 'Sam', 'Mike', 'Leo', 'Tom', 'Jim']`**\n",
    "* **`print(random.shuffle(data))`**\n",
    "* Output\n",
    "* **`[Sam', Leo', Tom', Sam', Jim', John']`**"
   ]
  },
  {
   "cell_type": "markdown",
   "id": "a2cf8387-3650-4a8a-9542-417fd3c28d3f",
   "metadata": {},
   "source": [
    "Q5. What are docstrings in Python?*\n",
    "* Answer: Docstrings are not actually comments, but, they are **documentation strings.**\n",
    "* These docstrings are within **triple quotes**. They are **not assigned to any variable** and therefore, at times, **serve the purpose of comments as well.**"
   ]
  },
  {
   "cell_type": "markdown",
   "id": "fce4630e-117a-4d7a-9cb7-b6483ae1b5f6",
   "metadata": {},
   "source": [
    "# Python Intermediate Questions\n",
    "Q1. What are negative indexes and why are they used?\n",
    "* Answer: The sequences in Python are indexed and it consists of the positive as well as negative numbers.\n",
    "* The **numbers that are positive use 'O' that is used as a first index and '1'** as the second index and the process goes on like that.\n",
    "* The index for the ***negative number starts from '-1' that represents the last index in the sequence and '-2'** as the penultimate index and the sequence carries forward like the positive number.\n",
    "* The **negative index is used to remove any new- line spaces from the string** and **allow the string to accept the last character that is given as S[:-1].**"
   ]
  },
  {
   "cell_type": "markdown",
   "id": "7e8b2ae8-20db-4858-8649-b30bf0596865",
   "metadata": {},
   "source": [
    "Q2. What is a Python module?\n",
    "* Answer: Modules are independent Python scripts with the **.py extension that can be reused in other Python codes or scripts using the import statement.**\n",
    "* A module can **consist of functions, classes, and variables, or some runnable code.**\n",
    "* Modules not only help in keeping Python codes organized but also in **making codes less complex and more efficient.**\n",
    "* The syntax to import modules in Python is as follows:\n",
    "* **`import module_name`**"
   ]
  },
  {
   "cell_type": "markdown",
   "id": "3b4de469-05fa-4c78-970d-a24004db0d82",
   "metadata": {},
   "source": [
    "Q3. Explain all file processing modes supported in Python.\n",
    "* Answer: Following are the file access modes in Python,\n",
    "* **1) Read Mode**\n",
    "* When we want to read a file, we need to open the file in read mode. The following are the read modes in Python,\n",
    "* **r** - It **opens a file in read-only mode.** The file pointer is placed at the beginning of the file. This is the default mode.\n",
    "* **rb** - It **opens a file for reading only in binary format.** The file pointer is placed at the beginning of the file.\n",
    "* **r+**- It **opens a file for both reading and writing**. The file pointer is placed at the beginning of the file.\n",
    "* **rb+**- It **opens a file for both reading and writing in binary format.** The file pointer is placed at the beginning of the file.\n",
    "#**2) Write Mode**\n",
    "* Whenever we wish to write some data to a file, we can open the file in write mode. The following are the write modes in Python,\n",
    "* **w** - It **opens a file in write-only mode**. It will overwrite the file if the file exists. If the file does not exist, it will create a new file for writing.\n",
    "* **wb** - It **opens a file for writing only in binary format**. It will overwrite the file if the file exists. If the file does not exist, it will create a new file for writing.\n",
    "* **w+** - It **opens a file for both writing and reading**. It will overwrite the existing file if the file exists. If the file does not exist, It will create a new file for reading and writing.\n",
    "* **wb+** - It **opens a file for both writing and reading in binary format.** It will overwrite the • existing file if the file exists. If the file does not exist, it will create a new file for reading and writing.\n",
    "#**3) Append Mode**\n",
    "* Following are the append modes in Python,\n",
    "* **a** - It **opens a file for appending.** The file pointer is at the end of the file if the file exists. If the file does not exist, it creates a new file for writing.\n",
    "* **ab** - It **opens a file for appending in binary format.** The file pointer is at the end of the file if the file exists. If the file does not exist, it creates a new file for writing.\n",
    "* **a+** - It **opens a file for both appending and reading.** The file pointer is at the end of the file if the file exists. If the file does not exist, it creates a new file for reading and writing.\n",
    "* **ab+** - It **opens a file for both appending and reading in binary format.** The file pointer is at the end of the file if the file exists. If the file does not exist, it creates a new file for reading and writing."
   ]
  },
  {
   "cell_type": "markdown",
   "id": "fff7f031-303c-4e0d-b795-2ea3b0ed9390",
   "metadata": {},
   "source": [
    "Q4. What do you understand by Tkinter?\n",
    "* Answer: Tkinter is an **in-built Python module that is used to create GUI applications.**\n",
    "* It is **Python's standard toolkit for GUI development**. Tkinter comes with Python, so there is no separate installation needed.\n",
    "* We can start using it by importing it into our script."
   ]
  },
  {
   "cell_type": "markdown",
   "id": "1cca6123-a5d3-4dda-aabc-46bf55a9b06f",
   "metadata": {},
   "source": [
    "Q5. What are loop interruption statements in Python?\n",
    "* Answer: There are two types of loop interruption statements in Python that lets us terminate a loop iteration prematurely, that is not letting the loop run its full iterations\n",
    "* Following are the two types of loop interruption statements:\n",
    "* **break statement:** The break statement immediately **terminates the loop entirely,** and the control flow of the program is shifted directly to the outside of the loop.\n",
    "* **continue statement:** Continue statement **terminates the current loop**iteration and moves the control flow of the program to the next iteration of the loop, letting the user skip only the current iteration."
   ]
  },
  {
   "cell_type": "markdown",
   "id": "22e131bc-9f5a-4786-b3dc-349edb1cdbe5",
   "metadata": {},
   "source": [
    "# Python Advanced Questions\n",
    "Q1.What is the lambda function in Python?\n",
    "* Answer: A lambda function is also called an **anonymous function (a function that does not have a name) in Python.**\n",
    "* To define anonymous functions, we use the 'lambda' keyword instead of the 'def' keyword, hence the name 'lambda function'.\n",
    "* **Lambda functions can have any number of arguments but only one statement.**"
   ]
  },
  {
   "cell_type": "markdown",
   "id": "3972e3d6-add2-4883-bd6b-4538fd4a57fb",
   "metadata": {},
   "source": [
    "Q2.Explain the use of try: except raise, and finally.\n",
    "* Answer: Python makes use of try, except, and finally blocks for exception handling.\n",
    "* **Try block is used to execute the code until an exception occurs.**\n",
    "* We can make use of an **except block to receive control after any error,** or one can use specific exception handling blocks for various error types.\n",
    "* Control is transferred to the appropriate except block.\n",
    "* In all cases, the **final block is executed. Raise may be used to raise your own exceptions.**"
   ]
  },
  {
   "cell_type": "markdown",
   "id": "eeea91ed-a561-4308-b16e-38ceee94f577",
   "metadata": {},
   "source": [
    "Q3.Can you explain the life cycle of a thread?\n",
    "* Answer:**To create a thread, we create a class that overrides the run method of the Thread class.** Then, we instantiate it.\n",
    "* A thread that we just created is in the new state. When we make a call to **start() on it, it forwards the threads for scheduling.** These are in the ready state.\n",
    "* When **execution begins, the thread is in the running state.**\n",
    "* Calls to methods like **sleep() and join() make a  thread wait. Such a thread is in the waiting/ blocked state.**\n",
    "* When a thread is done waiting or executing, other waiting threads are sent for scheduling.\n",
    "* A running thread that is done executing, terminates, and is in the dead state."
   ]
  },
  {
   "cell_type": "markdown",
   "id": "8c28ade9-551e-4791-a9ef-2bef59fc4d5b",
   "metadata": {},
   "source": [
    "Q4.Explain Python's parameter-passing mechanism.\n",
    "* Answer: To pass its parameters to a function, **Python uses pass-by-reference.** If you change a parameter within a function, the change reflects in the calling function.\n",
    "* This is its default behavior. However, when we pass literal arguments like strings, numbers, or tuples, they pass by value. This is because they are immutable."
   ]
  },
  {
   "cell_type": "markdown",
   "id": "a7664add-12ff-4694-90f9-9904f9bd9ab5",
   "metadata": {},
   "source": [
    "Q5.If a function does not have a return statement, is it valid?\n",
    "* Answer: **Yes, it is valid.**\n",
    "* A function that doesn't return anything, **returns a None object**. Not necessarily does the return keyword marks the end of a function, it merely ends it when present in the function.\n",
    "* Normally, a block of code marks a function, and where it ends, the function body ends."
   ]
  },
  {
   "cell_type": "markdown",
   "id": "b81e327b-b123-4acd-b284-f32de9c6561f",
   "metadata": {},
   "source": [
    "# Python OOP Questions"
   ]
  },
  {
   "cell_type": "markdown",
   "id": "a2f0c30a-af58-4d4e-86d9-94ba98d92dbb",
   "metadata": {},
   "source": [
    "Q1. What is a self-keyword in Python?\n",
    "* Answer: The self-keyword is used as the **first parameter of a function inside a class that represents the instance of the class.**\n",
    "* The object or the instance of the class is automatically passed to the method that it belongs to and is received in the 'self-keyword.'\n",
    "* Users can use another name for the first parameter of the function that catches the object of the class, but it is recommended to use 'self-keyword' as it is more of a Python convention."
   ]
  },
  {
   "cell_type": "markdown",
   "id": "780d8ad0-95e4-4d9a-82a3-23fd9acd6f62",
   "metadata": {},
   "source": [
    "Q2. Explain Inheritance in Python.\n",
    "* Answer: **Inheritance allows one class to gain all the members(attributes and methods) of another class.**\n",
    "* **Inheritance provides code reusability, makes it easier to create and maintain an application.**\n",
    "* The **class from which we are inheriting is called superclass or base class** and the **class that is inherited is called a derived / child class.**\n",
    "* These are the different types of inheritance supported by Python:\n",
    "* Inheritance provides code reusability, makes it easier to create and maintain an application.\n",
    "* The class from which we are inheriting is called superclass or base class and the class that is inherited is called a derived / child class.\n",
    "* These are the different types of inheritance supported by Python:\n",
    "* **Single Inheritance** - It is when a **derived class acquires the members of a single superclass.**\n",
    "* **Multi-level inheritance** - In this type of inheritance, **a derived class is created from another derived class.**\n",
    "* **Hierarchical inheritance** - In this type of inheritance, **more than one subclass is inherited from a single base class, that is, more than one derived class is created from a single base class.**\n",
    "* **Multiple inheritance** - In this, **a class can inherit from more than one class that is one subclass is inherited from more than one base class**."
   ]
  },
  {
   "cell_type": "markdown",
   "id": "1224c0fa-c220-476a-b725-9ec636839e03",
   "metadata": {},
   "source": [
    "Q3. What is_init_ in Python?\n",
    "* Answer: **The_init_ is a constructor method in Python and is automatically called to allocate memory when a new object/instance is created.**\n",
    "* All classes have a init method associated with them. It helps in distinguishing methods and attributes of a class from local variables.\n",
    "* Following is the example of how it works,\n",
    "#**`class definition`**\n",
    "* **`class Student:**\n",
    "* **`def_init__(self, fname, Iname, age, section):`**\n",
    "* **`self.firstname = fname`**\n",
    "* **`self.lastname = Iname`**\n",
    "* **`self.age = age`**\n",
    "* **`self.section = section`**\n",
    "#**`creating a new object`**\n",
    "* **`student1 = Student('John', 'Doe', 19, 'First')`**"
   ]
  },
  {
   "cell_type": "markdown",
   "id": "4094dff7-f926-48e0-af85-cca8f1d1be4a",
   "metadata": {},
   "source": [
    "Q4. Is Python call-by-value or call-by-reference?\n",
    "* Answer: Python is neither call-by-value nor call- by-reference. It is **call-by-object-reference** since almost everything is an object in Python."
   ]
  },
  {
   "cell_type": "markdown",
   "id": "e0336073-89fd-4715-9744-a9cc2a16e0ad",
   "metadata": {},
   "source": [
    "Q5. What is Class in Python?\n",
    "* Answer: Python supports object-oriented programming and provides almost all OOP features to use in programs.\n",
    "* A Python **class is a blueprint for creating the objects**. It **defines member variables and gets their behavior associated with them.**\n",
    "* We can make it by using the keyword \"class.\" An object gets created from the constructor. This **object represents the instance of the class.**\n",
    "* In Python, we generate classes and instances in the following way.\n",
    "* **`class Human:`**\n",
    "* **`pass`**\n",
    "* **`man = Human()`**"
   ]
  },
  {
   "cell_type": "code",
   "execution_count": null,
   "id": "25220bd2-f90d-4fe8-9f08-5d4e62c7c258",
   "metadata": {},
   "outputs": [],
   "source": []
  }
 ],
 "metadata": {
  "kernelspec": {
   "display_name": "Python 3 (ipykernel)",
   "language": "python",
   "name": "python3"
  },
  "language_info": {
   "codemirror_mode": {
    "name": "ipython",
    "version": 3
   },
   "file_extension": ".py",
   "mimetype": "text/x-python",
   "name": "python",
   "nbconvert_exporter": "python",
   "pygments_lexer": "ipython3",
   "version": "3.12.4"
  }
 },
 "nbformat": 4,
 "nbformat_minor": 5
}
