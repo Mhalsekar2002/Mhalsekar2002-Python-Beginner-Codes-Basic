{
 "cells": [
  {
   "cell_type": "markdown",
   "id": "945543a1-5f75-4209-8a60-50e7345e975f",
   "metadata": {},
   "source": [
    "# Modules\n",
    "* Modules are just like readymade bread.\n",
    "* Modules refer to file conatining python statements and definitions.These are prewritten codes that are written by someone which can directly use your code.\n",
    "* We use modules to break down large programs into small manageable and organized files\n",
    "* We can define our most used functions in a module and import it, instead of copying their definition into different programs.\n",
    "\n",
    "#There are 3 types of modules,\n",
    "* **Built-in modules**\n",
    "* **Third party modules**\n",
    "* **Custom modules**\n",
    "\n",
    "## Built-in modules\n",
    "* As the name suggests, built-in modules are the modules that are available in Python by default.These modules are developed and maintained by the Python developer team.\n",
    "* Thus, to use such modules, you can directly import them into your file and just make the call to the methods that you need.\n",
    "* For instance, the math module is a built-in module in python that provides various mathematical functions.\n",
    "\n",
    "## Third party modules\n",
    "* These modules are just like the built-in modules in Python. The only major difference is that we need to install them first.\n",
    "* Once they are installed, you can use them just like the built-in modules.\n",
    "* Third-party modules can be installed using the 'pip' command. PIP is a package manager for Python packages.\n",
    "* These modules are uploaded and stored at the PyPI repository. The Python Package Index, abbreviated as PyPI is the official third-party software        repository for Python.\n",
    "* Following is the syntax to download the third- party modules. Hit this command in the command-line/terminal.\n",
    "\n",
    "#For windows : \n",
    "* **`pip install module_name`**\n",
    "\n",
    "#For MacOs/Linux : \n",
    "* **`pip3 install module_name`**\n",
    "\n",
    "## Custom modules\n",
    "* Python custom modules are the modules created by the developer.\n",
    "* These modules are simple Python files that can be imported into another Python file/project.\n",
    "* Once imported, you can access all the attributes and methods of the imported file.Such files are called Python custom modules.\n",
    "* This allows you to reuse your code in the same project and also helps you write efficient and fewer lines of code."
   ]
  },
  {
   "cell_type": "markdown",
   "id": "daf5a356-7acd-400f-9f2f-f9cef93c6c7b",
   "metadata": {},
   "source": [
    "# How to use Modules\n",
    "There are 3 ways of using python modules,\n",
    "* The import statement\n",
    "* Import statement and renaming\n",
    "* The form...import statement\n",
    "\n",
    "## The import statement\n",
    "* We can use the import keyword to do this\n",
    "* To import the module, we can use the following statement,\n",
    "* **`import module_name`**\n",
    "* This will import the whole module into your Python project.\n",
    "* To use the various functions provided by the respective module, we can use the dot (.) operator as shown below,\n",
    "\n",
    "**`#module_name.functionName()`**\n",
    "* Where,module_name is the name of the Python module.\n",
    "* functionName() is the name of the function we wish to use from that particular module.\n",
    "\n",
    "## Renaming a module\n",
    "* There are situations were the module name is little lengthy.\n",
    "* In such situations, we can rename the module's name while importing it.\n",
    "* We can use the import...as syntax that allows us to do the same. The as keyword helps us in renaming the module as shown below,\n",
    "#**`import module_name as m`**\n",
    "* module_name is the name of the Python module.\n",
    "* 'm' is the new name given to it that can be used to refer to the module further in the project.\n",
    "#For example,\n",
    "* Instead of using the syntax, module_name.functionName(), we can use m.functionName().\n",
    "\n",
    "##  The form...import statement\n",
    "* Let's say you want to buy an egg, just one egg. In such a situation, will it make sense to buy the whole egg tray? Of course not!\n",
    "* Similarly, assume that there is some situation where you need a particular attribute/function/ class from a module.\n",
    "* Then importing the whole module can make your project heavy and a bit slow.\n",
    "* We can use the from...import syntax which allows us to import only the particular name(attribute/function/class) that we want from a module.\n",
    "#Following is the syntax to do so,\n",
    "* **`from module_name import functionName`**\n",
    "\n",
    "**How to use?**\n",
    "* We know that we can use a particular attribute/ function from a module using the dot operator.\n",
    "* But, how to use it in the case of from...import syntax?\n",
    "* It is pretty simple.\n",
    "* Since we have just imported only the particular name from the module that we want, we can directly use it without referring to the module_name using * the dot syntax as shown below,\n",
    "#**`functionName()`**"
   ]
  },
  {
   "cell_type": "code",
   "execution_count": 18,
   "id": "01b51ac4-bc11-4c2c-810d-9f5e73d778eb",
   "metadata": {},
   "outputs": [
    {
     "data": {
      "text/plain": [
       "120"
      ]
     },
     "execution_count": 18,
     "metadata": {},
     "output_type": "execute_result"
    }
   ],
   "source": [
    "#Let's say we have a requirement to calculate the factorial of a given number.\n",
    "#We do know that this is already available under a built-in module called math. Following are the different ways of using this function:\n",
    "\n",
    "# simple import method\n",
    "import math\n",
    "math.factorial(5)\n",
    "# rename method\n",
    "import math as mt\n",
    "mt.factorial(5)\n",
    "# importing just the factorial function\n",
    "from math import factorial\n",
    "factorial(5)\n",
    "\n",
    "#All the above statements would yield the output as 120 when executed separately."
   ]
  },
  {
   "cell_type": "markdown",
   "id": "579b6104-557f-496c-8c06-a9ed78e5f06e",
   "metadata": {},
   "source": [
    "## Some important built-in Modules\n",
    "The following are a few that you should surely know,\n",
    "* **math** - This module provides access to the mathematical functions defined by the C standard.\n",
    "Math Module - https://docs.python.org/3/library/math.html\n",
    "* **random** - This module implements pseudo- random number generators for various distributions.\n",
    " Random Module - https://docs.python.org/3/library/random.html\n",
    "* **statistics** - This module provides functions for calculating mathematical statistics of numeric (Real-valued) data.\n",
    "Statistics Module - https://docs.python.org/3/library/statistics.html\n",
    "* **array** - In Python, we do not have a concept of arrays. But we can use the array module which defines an object type that can compactly represent an array of basic values: characters, integers, floating-point numbers. Arrays are sequence types and behave very much like lists, except that the type of objects stored in them is constrained.That means an array containing numeric values will not accept a string value to be stored in it.Array Module - https://docs.python.org/3/library/array.html\n",
    "* **datetime** - The datetime module supplies classes for manipulating dates and times.\n",
    "Datetime Module - https://docs.python.org/3/library/datetime.html\n",
    "* **time** - This module provides various time- related functions. Most of the functions defined in this module call platform C library functions with the same name.\n",
    "Time Module - https://docs.python.org/3/library/time.html\n",
    "* **sqlite3** - SQLite is a C library that provides a lightweight disk-based database that doesn't require a separate server process and allows accessing the database.\n",
    "SQLite3 Module - https://docs.python.org/3/library/sqlite3.html\n",
    "* **urllib** - This is a package that collects several modules for working with URLs.\n",
    "Urllib Module - https://docs.python.org/3/library/urllib.html#module-urllib\n",
    "* **tkinter** - The Tkinter package (\"Tk interface\") is the standard Python interface to the Tk GUI toolkit.\n",
    "Tkinter Module - https://docs.python.org/3/library/tkinter.html#module-tkinter"
   ]
  },
  {
   "cell_type": "markdown",
   "id": "7bc8500f-2f7b-462f-94d1-d693ae956705",
   "metadata": {},
   "source": [
    "## Custom Modules\n",
    "* It is so that one can use those particular functionalities anywhere in the project.This enables codes reusability and efficiency."
   ]
  },
  {
   "cell_type": "code",
   "execution_count": 13,
   "id": "6ec2c652-f42a-4aef-8539-a8ec08c09b08",
   "metadata": {},
   "outputs": [
    {
     "name": "stdout",
     "output_type": "stream",
     "text": [
      "\n",
      "def add(num1, num2):\n",
      "    return num1 + num2\n",
      "def sub(num1, num2):\n",
      "    return num1 - num2\n",
      "def multiply(num1, num2):\n",
      "    return num1 * num2\n",
      "def divide(num1, num2):\n",
      "    return num1 / num2\n",
      "\n"
     ]
    }
   ],
   "source": [
    "# Eg of Custom module\n",
    "fp = open(\"calculator.py\", 'w')\n",
    "fp.write(\"\"\"\n",
    "def add(num1, num2):\n",
    "    return num1 + num2\n",
    "def sub(num1, num2):\n",
    "    return num1 - num2\n",
    "def multiply(num1, num2):\n",
    "    return num1 * num2\n",
    "def divide(num1, num2):\n",
    "    return num1 / num2\n",
    "\"\"\")\n",
    "# Open the file in read mode and print its contents\n",
    "fp = open(\"calculator.py\", 'r')\n",
    "print(fp.read())"
   ]
  },
  {
   "cell_type": "markdown",
   "id": "191030a8-f23f-4de1-82c9-aa79ed45a085",
   "metadata": {},
   "source": [
    "## Using Custom Module\n",
    "* Now, let's assume that we need to add two numbers in one of our projects, say 'project.py'.\n",
    "* But, we already have the calculator code, right?\n",
    "* So, rather than writing the code again, it is a good idea to reuse it.\n",
    "* The drill remains the same, first, we need to import the module, and then we can access the methods and more.\n",
    "* Since the name of our calculator file is 'calculator.py', we can import it as shown below,\n",
    "* **`import calculator`**\n",
    "* A module is nothing but a simple python file.\n",
    "* The syntax used to import a module remains the same irrespective of whether the module is a built-in one or a custom module."
   ]
  },
  {
   "cell_type": "code",
   "execution_count": 15,
   "id": "887c70e5-fcbb-4373-925a-d7643deda70e",
   "metadata": {},
   "outputs": [
    {
     "name": "stdin",
     "output_type": "stream",
     "text": [
      "Enter the first number 55\n",
      "Enter the second number 1\n"
     ]
    },
    {
     "name": "stdout",
     "output_type": "stream",
     "text": [
      "Addition is 56\n"
     ]
    }
   ],
   "source": [
    "# Above code continued\n",
    "from calculator import add\n",
    "a=int(input(\"Enter the first number\"))\n",
    "b=int(input(\"Enter the second number\"))\n",
    "print(\"Addition is\",add(a,b))"
   ]
  },
  {
   "cell_type": "code",
   "execution_count": null,
   "id": "2289296c-41a2-4e08-a3fe-3f808474688e",
   "metadata": {},
   "outputs": [],
   "source": []
  }
 ],
 "metadata": {
  "kernelspec": {
   "display_name": "Python 3 (ipykernel)",
   "language": "python",
   "name": "python3"
  },
  "language_info": {
   "codemirror_mode": {
    "name": "ipython",
    "version": 3
   },
   "file_extension": ".py",
   "mimetype": "text/x-python",
   "name": "python",
   "nbconvert_exporter": "python",
   "pygments_lexer": "ipython3",
   "version": "3.12.4"
  }
 },
 "nbformat": 4,
 "nbformat_minor": 5
}
