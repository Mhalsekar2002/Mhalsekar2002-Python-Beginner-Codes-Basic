{
 "cells": [
  {
   "cell_type": "markdown",
   "id": "abaeff94-f0d2-48d0-bddf-126f13e29545",
   "metadata": {},
   "source": [
    "#In programming, there are different paradigms or patterns that define how to write and structure our code. Also, each paradigm has different functionalities and behaviors.\n",
    "There are various types of programming patterns such as,\n",
    "* **Structural programming** - Structures the code representing the data with some basic functionalities.\n",
    "* **Procedural programming** - Uses fuction as building blocks.\n",
    "* **Object-oriented programing** - Uses clases and object as building blocks.\n",
    "* **Functional programming**\n",
    "Therefore, object-oriented programming is one such programming paradigm\n",
    "#Till now we have learn Structural programming and Procedural programming"
   ]
  },
  {
   "cell_type": "markdown",
   "id": "fd3ce93e-da6b-4efe-ae73-4a082b7f8484",
   "metadata": {},
   "source": [
    "# OOPs\n",
    "* Object-oriented programming (OOP) is a programming paradigm that provides a means for structuring programs so that properties and behaviors are bundled into individual objects.\n",
    "* But, when we talk about object-oriented programming, the two concepts that will pop up are Classes and Objects\n",
    "* Thus, we can say that the variable 'name' is the object of the class 'string' at the most basic level\n",
    "* OOPs in Python is a programming approach that focuses on using objects and classes as the building blocks of the program.\n",
    "* It allows developers to develop applications using the OOPs approach with a major focus on code reusability.\n",
    "* In simple words, object-oriented programming is an approach for modeling concrete, real-world things, and relations between those things.\n",
    "* OOP models real-world entities as programming objects that have some data associated with them and can perform certain functions"
   ]
  },
  {
   "cell_type": "markdown",
   "id": "fabed77a-61c2-4ea9-8b38-258db2e53808",
   "metadata": {},
   "source": [
    "## Principles\n",
    "Following are the four main principles/properties of object-oriented programming,\n",
    "1) **Abstraction**\n",
    "2) **Encapsulation**\n",
    "3) **Inheritance**\n",
    "4) **Polymorphism**\n",
    "#These are called the 4 pillars of OOP. Let's have a look at each one-by-one.\n",
    "\n",
    "## Abstraction\n",
    "* Abstraction is one of the most essential and important features of object-oriented programming.\n",
    "* **As the name suggests, abstraction means to abstract only the details/data which might concern the user.**\n",
    "* **For example, when you use a mobile phone, you just think about how the touch works, how the fingerprint scanner, home button, camera, etc work.You won't worry about how those things are implemented internally.Those details about the implementation part are hidden from you as a user and you might not worry about it as well.**\n",
    "* **Abstraction is abstracting the details that may concern you.**\n",
    "* But, if you are a software developer, you might want to worry about how all those features work and how they are implemented.\n",
    "* Thus, the abstraction of data differs from person to person and it has levels of abstraction.\n",
    "* Therefore, data abstraction simply refers to providing only essential information about the data to the outside world, hiding the background details or implementation.\n",
    "\n",
    "## Encapsulation\n",
    "* Abstraction and Encapsulation go hand in hand. In abstraction, we let the user abstract only the details that are required, the rest is hidden.\n",
    "* Similarly in encapsulation, we try to encapsulate all the data as a single entity.\n",
    "* It's just like a black box, where from the one end we can pass input, it processes it and gives the result as an output from the other end.\n",
    "* So, what happens in the black box is completely hidden.\n",
    "* **Encapsulation is just like the real-life capsule that your doctor might give you. Inside the capsule, there are various chemical elements mixed to create a single consumable entity.**\n",
    "* Now, assume that the doctor gives you all those chemical elements and asks you to mix them and take the dosage. Does that make any sense?\n",
    "Of course not! As the consumer, it's not your job to do that.\n",
    "* Thus, **Encapsulation is defined as binding together the data under a single unit.**\n",
    "* Note that, Encapsulation also leads to data abstraction or hiding as using encapsulation also hides the data.\n",
    "\n",
    "## Inheritance\n",
    "* **It's a fact that we inherit a lot of things from our parents. Some properties like looks, skin color, hair, body, and not just properties but also our behaviors.**\n",
    "* That said, one more perk is that we may inherit all the money, wealth, and fortune.\n",
    "* Similarly, in programming, one element can inherit various characteristics and capabilities from another element. (Here the element which we are referring to is a 'class').\n",
    "* Inheritance is one of the most important features of Object-Oriented Programming and supports the concept of **\"reusability\"**\n",
    "* **This simply means, when we want to create some feature and there is already such a feature that includes some of the code that we want, then we can derive our feature from the existing one instead of developing from scratch.**\n",
    "\n",
    "## Polymorphism\n",
    "* The word polymorphism means having many forms (poly = many, morphism = forms)\n",
    "* In simple words, we can define **polymorphism as the ability of something to have more than one form.**\n",
    "* **Consider a geometric shape. As a whole, it's termed as a shape, but that shape can have many forms such as triangle, circle, square, rectangle, oval, and more.**\n",
    "* Similarly, in programming, an operation may exhibit different behaviors in different instances.\n",
    "* The behavior depends upon the types of data used in the operation."
   ]
  },
  {
   "cell_type": "markdown",
   "id": "d7692852-ed0b-4a37-906b-6001d75abeeb",
   "metadata": {},
   "source": [
    "# Classes and Objects\n",
    "* classes and Objects are building blocks of object oriented system.These pillars & building blocks combined make an object oriented program which is althogether a complete program paradigm.\n",
    "\n",
    "## Classes\n",
    "* Just like lists, tuples, dictionaries, and more, classes are some advanced data structures to store, manipulate, and structure the data.\n",
    "* Data structures like lists, tuples, dictionaries, etc can group and store only a few attributes, but a class is a type of user-defined structure that can store various attributes, (Data - both primitive and user-defined) along with their functionalities, all together as a single unit.\n",
    "* These attributes and their functionalities (behaviors) can be accessed via Objects.\n",
    "\n",
    "#**But what is a class in OOP?**\n",
    "* A class is a user-defined prototype for an object that defines the set of attributes that characterize any object of the class.\n",
    "* In simple words, a class is just like a prototype depending on which the real-world objects are created.\n",
    "* Thus, you can define a class as a **'blueprint to create objects'**.\n",
    "* Consider a simple example. When you develop a building, you won't directly start the construction and the development of the building structure.\n",
    "* The very first step would be to create a blueprint of how you want to create the building and how would it be.\n",
    "* Now, depending upon that blueprint, you would go and create real-world building structures that would be the same but might differ in various attributes and functionalities such as they might have different colors, a different type of windows, different interior, and so on.\n",
    "* But at the most basic level, the base structure would remain the same as defined in the blueprint.\n",
    "\n",
    "## Objects\n",
    "* Objects are called as an **instance of the class**. As we have seen, a class is just a blueprint, so it's just like a description.\n",
    "* According to that description, an object is created which contains the real data.\n",
    "* For instance, all the buildings will be the same, but in each building, we will have different flats that would be completely different depending upon the person who has occupied it.\n",
    "* An object has two things,\n",
    "1) **Attributes (Data variables of the class)**\n",
    "2) **Behaviors (Functions defined in the class)**\n",
    "\n",
    "#Example\n",
    "* If the building is a class, then color, floors, flats, entrance, etc would be the attributes, and isReady(), isOccupied(), flatAvailable(), etc would be its behaviors that are the methods.\n",
    "* Now, each building would have all these data and behaviors different and unique to themselves.\n",
    "* That's all about Classes and Objects. Don't worry, in the next section, we will start writing some code in Python and you would be able to grasp this theory better.\n"
   ]
  },
  {
   "cell_type": "markdown",
   "id": "b9d6cd2b-133f-4309-a446-eccf1bc891a5",
   "metadata": {},
   "source": [
    "## defining a class\n",
    "* **`class className:`**\n",
    "* **`#body of the class`**\n",
    "* Here,**'class'** is the keyword used to **define a class in Python**.\n",
    "* className is the name given to the class. Just • like the name of a variable or a function, the name of the class has to be meaningful\n",
    "* Finally, it is terminated with a semicolon\n",
    "* Inside the class, we can define the attributes and the functions and the body of the class which should be indented."
   ]
  },
  {
   "cell_type": "markdown",
   "id": "34327b18-c026-4095-a10a-c3e12fe94f2e",
   "metadata": {},
   "source": [
    "#**Employee Class**\n",
    "\n",
    "* Let's define a simple class called Employee which will help us store and process employee details.\n",
    "* **`class Employee:`**\n",
    "* **`pass`**\n",
    "* Here,We define a class named 'Employee' using the class keyword\n",
    "* The \"pass\" keyword as the name suggests does nothing. It is used as a dummy placeholder whenever a syntactical requirement of a certain programming element is to be fulfilled without assigning any operation. The pass statement is simply ignored by the Python interpreter and can be seen as a null statement.\n",
    "* Thus, **'pass'** is just like a **temporary placeholder** until we add the required functionalities.\n",
    "* When we run the above code, there will be nothing returned as the output since at the moment our class is empty and does not have any data in it."
   ]
  },
  {
   "cell_type": "markdown",
   "id": "9bc7b8f0-fa63-4c3f-91e1-ae17526da563",
   "metadata": {},
   "source": [
    "#Now, let's add some of the attributes (variables that will hold data) to the Employee class,\n",
    "* **`class Employee:`**\n",
    "*   **`empName=\"Ram\"`**\n",
    "*    **`age=22`**\n",
    "*   **`designation=\"Data Analyst\"`**\n",
    "* If we run the above program again, it won't return any output since a class is just the description.\n",
    "* We have seen that to access the attributes of the class, we would need to create an object."
   ]
  },
  {
   "cell_type": "markdown",
   "id": "ce5db2a7-f543-465b-98f1-12ae9be3d69f",
   "metadata": {},
   "source": [
    "## Declaring an Object\n",
    "* We know that an object is an instance of a class.\n",
    "* Thus, when we declare an object of the class, at that time the memory is allocated to it and then we can access the attributes and methods of the class.\n",
    "* Following is the syntax that we can use to define an object of a class,\n",
    "* **`objName = className()`**\n",
    "* As we can see in the above syntax, we can declare an object by giving it a name followed by the assignment operator with the className ending with parentheses.\n",
    "* Once we have declared the object, we can access the attributes and methods using the following\n",
    "syntax,\n",
    "* **`objName.attributeName`**\n",
    "* **`objName.methodName()`**"
   ]
  },
  {
   "cell_type": "code",
   "execution_count": 7,
   "id": "fe4ccf43-49b9-40ec-a6a3-17324e08de78",
   "metadata": {},
   "outputs": [
    {
     "name": "stdout",
     "output_type": "stream",
     "text": [
      "Ram\n"
     ]
    }
   ],
   "source": [
    "#Eg of  Object of Employee Class\n",
    "class Employee:\n",
    "    empName = \"Ram\"\n",
    "age = 22\n",
    "designation = \"Data Analyst\"\n",
    "empOne = Employee()\n",
    "print(empOne.empName)"
   ]
  },
  {
   "cell_type": "code",
   "execution_count": 83,
   "id": "be3cc084-c593-471f-ae5b-b1af8f7b3778",
   "metadata": {},
   "outputs": [
    {
     "name": "stdout",
     "output_type": "stream",
     "text": [
      "John\n",
      "John\n"
     ]
    }
   ],
   "source": [
    "# Eg, More about Objects\n",
    "#We know that each object is a unique instance of the class and each object has its own attributes and behaviors.\n",
    "class Employee:\n",
    "    empName = \"John\"\n",
    "age = 35\n",
    "designation = \"Manager\"\n",
    "empOne = Employee()\n",
    "empTwo = Employee()\n",
    "print(empOne.empName)\n",
    "print(empTwo.empName)\n",
    "\n",
    "#Oh!The output surely does contradict the above statement and the working of object"
   ]
  },
  {
   "cell_type": "markdown",
   "id": "59466fde-64b1-4f15-96d8-b75352190ade",
   "metadata": {},
   "source": [
    "# Contructor and Self\n",
    "## Constructor\n",
    "* As we have seen in the last section, our class was quite rigid. Every employee cannot have the same name 'John'.Right?\n",
    "* Thus, we need to make our program more dynamic so that every time a new object is created, it processes that information and constructs a unique object.\n",
    "* We can do that with the help of Constructors in Python.\n",
    "* **Constructors are generally used for instantiating an object.The task of constructors is to initialize (assign values) the data members of the class when an object of the class is created.**\n",
    "* Following is the syntax to define a constructor,\n",
    "* **`def_init__(self):`**\n",
    "* **`#body of the constructor`**\n",
    "* The attributes that all objects must have, are defined in a method called **__ init __()**.\n",
    "* Every time a new object is created, init_() sets the initial state of the object by assigning the values of the object's properties.\n",
    "* That is,**__ init __()** initializes each new instance of the class.\n",
    "\n",
    "#There are two types of constructors,\n",
    "1) **Default constructor**: The default constructor is the constructor that doesn't accept any arguments. Its definition has only one argument (self  we will discuss this later) which is a reference to the instance being constructed.\n",
    "* Note that, when your class has a default constructor, you can create the object using the following syntax,\n",
    "* **`objName = className()`**\n",
    "* Also, if you do not provide any constructor, Python automatically assigns a default constructor to the class.\n",
    "\n",
    "2) **Parameterized constructor**: A constructor with parameters is known as a parameterized constructor. The parameterized constructor takes its first argument as a reference to the instance being constructed known as self and the rest of the arguments are provided. These are the required attributes for the class.\n",
    "* If your class has a parameterized constructor, then when you create an object, you will need to pass those required numbers of arguments just like we do when we have a function that accepts a parameter.\n",
    "* Following is the syntax for the same,\n",
    "* **`objName = className (paraOne, paraTwo, ... paraN)`**"
   ]
  },
  {
   "cell_type": "code",
   "execution_count": 128,
   "id": "f27427c5-7f1c-437f-bc8f-e587d2a9f646",
   "metadata": {},
   "outputs": [
    {
     "name": "stdout",
     "output_type": "stream",
     "text": [
      "John\n"
     ]
    }
   ],
   "source": [
    "# Eg, Using __init__ method(Default contructor)\n",
    "class Employee:\n",
    "    def __init__(self):\n",
    "        self.empName = 'John'\n",
    "        self.age = 35\n",
    "        self.designation = 'Manager'\n",
    "        \n",
    "empOne = Employee()\n",
    "print(empOne.empName)\n",
    "\n",
    "#The above program is quite similar to the program that we worked with in the last section, the only difference is that here we have used the __init__method and defined the attributes inside it.\n",
    "#Just like the previous one, the output will also remain the same for all the objects.\n",
    "#Note: Just ignore the word 'self' for now, we will discuss it briefly in the upcoming screens"
   ]
  },
  {
   "cell_type": "code",
   "execution_count": 130,
   "id": "f226eda7-9ba8-486a-a2e9-d379e44c54ef",
   "metadata": {},
   "outputs": [
    {
     "name": "stdout",
     "output_type": "stream",
     "text": [
      "John\n",
      "Sam\n"
     ]
    }
   ],
   "source": [
    "# Eg, Using __init__ method(Parameterized contructor)\n",
    "class Employee:\n",
    "    def __init__(self, empName,age,designation):\n",
    "        self.empName = empName\n",
    "        self.age = age\n",
    "        self.designation = designation\n",
    "\n",
    "empOne = Employee ('John', 35, 'Manager')\n",
    "empTwo= Employee ('Sam', 26, 'PythonDeveloper')\n",
    "print(empOne.empName)\n",
    "print(empTwo.empName)\n",
    "\n",
    "#Here, we have used the parameterized init_ method and passed the required attributes as parameters after the self.\n",
    "#Since we will be getting these values as arguments, instead of assigning the values, we have assigned the parameters directly inside the _init_method.\n",
    "#And as we can see, now each object will have its unique values since we are passing these values when we create the object."
   ]
  },
  {
   "cell_type": "markdown",
   "id": "efb86cda-dfd9-44e8-a69f-70c1f9497b55",
   "metadata": {},
   "source": [
    "## Self\n",
    "* Let's talk about that weird word that we have come across called 'self'. What is it?\n",
    "* Consider the following example, When you go to Starbucks and order a drink (coffee), you might have seen the glasses with your name on them. Why is it done? Of course, it's a marketing trick, but there is one more reason.\n",
    "* That label helps the vendor individually recognize the glass according to the name of the buyer and depending upon that, the order is filled in.\n",
    "* Similarly, in OOP, the 'self' keyword works like a label and helps the class to individually recognize the instance(object) and accordingly pass the data to the object.\n",
    "* Consider Starbucks as the class, the Starbucks glasses are the object and the name on that glass is the 'self' label which helps to recognize the order.\n",
    "* Thus, when multiple objects of a class are created, the 'self' keyword helps the class to know which object is requesting to access the attributes and the methods and depending upon the object parameters, the data is processed.\n",
    "* In the previous example, we have written self.empName, self.age, self.designation which will help the class to understand which current object is accessing the attributes and accordingly return the output. (Like John and Sam in the previous scenario)\n",
    "* **Self is used to represent the current instance of the class**\n"
   ]
  },
  {
   "cell_type": "markdown",
   "id": "57961290-5ce3-49d5-98ab-1683f0e7464d",
   "metadata": {},
   "source": [
    "## Adding Behaviors\n",
    "**Adding Methods to Class**\n",
    "\n",
    "* **`class Employee:`**\n",
    "* **`totalEmployees=0`**\n",
    "* **`def __init__(self, empName,age,designation,salary):`**\n",
    "* **`self.empName = empName`**\n",
    "* **`self.age = age`**\n",
    "* **`self.designation = designation`**\n",
    "* **`self.salary = salary`**\n",
    "* Here, we have added an extra attribute salary. That said, let's say we want to keep a track of the number of employees in the organization. Then we can make the following changes.\n",
    "* As you can see here, we have declared a variable 'total Employees' and initialized it to zero which will keep track of the number of employees in the organization.\n",
    "#**Class variables and instance variables**\n",
    "* But here, as we can see, total Employees is not defined inside the __ init __ method, and also it is not passed in the constructor.\n",
    "* This is because that value has to be calculated by the program and should not be passed at the time of object creation.\n",
    "* So, whenever a new object (that is a new Employee) is created, we need to update that value by one.\n",
    "* As we know, whenever a new object is created, the __ init __ method is called. Therefore we update the value by 1 in the __ init __ method.\n",
    "* Note that, since this attribute does not depend on the object, we cannot use 'self' to refer to it. Therefore, we directly use the name and access it - Employee.total Employees\n",
    "* Such variables that are shared by all the instances (objects) are called Class variables. And the variables that are defined inside __ init __are called Instance variables.\n",
    "#**Adding Methods**\n",
    "* Now that we have defined the init method, let's add some user-defined methods to it.\n",
    "* They are nothing but simple Python functions but inside the class, as shown below,\n",
    "* **`def getEmpDetails(self):`**\n",
    "* **`return self.empName, self.age,`**\n",
    "* **`self.designation, self.salary`**\n",
    "* **`def updateSalary (self, newSalary):`**\n",
    "* **`self.salary=newSalary`**\n",
    "* **`print('Salary Updated')`**\n",
    "* **`return self.salary`**\n",
    "* Here, we have defined two methods,\n",
    "* The getEmpDetails() simply returns all the details about the employee.\n",
    "* The updateSalary() method accepts a parameter as newSalary and updates the self.salary to the passed value.\n",
    "#Note: Every method in a class has a first default parameter as 'self."
   ]
  },
  {
   "cell_type": "code",
   "execution_count": 11,
   "id": "b0e9e02e-3050-4c6c-b901-b3f7aeb1ed61",
   "metadata": {},
   "outputs": [
    {
     "name": "stdout",
     "output_type": "stream",
     "text": [
      "('John', 35, 'Manager', 35000)\n",
      "('Sam', 26, 'Python Developer', 27000)\n",
      "Salary Updated\n",
      "('John', 35, 'Manager', 40000)\n",
      "0\n"
     ]
    }
   ],
   "source": [
    "#Creating Object(Above code cont)\n",
    "empOne = Employee('John', 35, 'Manager', 35000)\n",
    "print(empOne.getEmpDetails())\n",
    "\n",
    "empTwo = Employee ('Sam', 26, 'Python Developer', 27000)\n",
    "print(empTwo.getEmpDetails())\n",
    "\n",
    "empOne.updateSalary (40000)\n",
    "\n",
    "print(empOne.getEmpDetails())\n",
    "\n",
    "print(Employee.totalEmployees)"
   ]
  },
  {
   "cell_type": "code",
   "execution_count": 5,
   "id": "09bb3e1b-80c1-4f28-b365-4715ba7833a8",
   "metadata": {},
   "outputs": [
    {
     "name": "stdout",
     "output_type": "stream",
     "text": [
      "('John', 35, 'Manager', 35000)\n",
      "('Sam', 26, 'Python Developer', 27000)\n",
      "Salary Updated\n",
      "('John', 35, 'Manager', 40000)\n",
      "0\n"
     ]
    }
   ],
   "source": [
    "# Adding whole above code \n",
    "class Employee:\n",
    "    totalEmployees = 0\n",
    "\n",
    "    def __init__(self, empName, age, designation, salary):\n",
    "        self.empName = empName\n",
    "        self.age = age\n",
    "        self.designation = designation\n",
    "        self.salary = salary\n",
    "\n",
    "    def getEmpDetails(self):\n",
    "        return self.empName, self.age, self.designation, self.salary\n",
    "\n",
    "    def updateSalary(self, newSalary):\n",
    "        self.salary = newSalary\n",
    "        print('Salary Updated')\n",
    "        return self.salary\n",
    "\n",
    "# Create Employee instances\n",
    "empOne = Employee('John', 35, 'Manager', 35000)\n",
    "print(empOne.getEmpDetails())\n",
    "\n",
    "empTwo = Employee('Sam', 26, 'Python Developer', 27000)\n",
    "print(empTwo.getEmpDetails())\n",
    "\n",
    "# Update salary for empOne\n",
    "empOne.updateSalary(40000)\n",
    "print(empOne.getEmpDetails())\n",
    "\n",
    "# Print total employees\n",
    "print(Employee.totalEmployees)\n"
   ]
  },
  {
   "cell_type": "markdown",
   "id": "8dd6158f-3348-428d-8ce5-e8bdf0e54787",
   "metadata": {},
   "source": [
    "# Inheritance\n",
    "* In programming, one class can inherit various characteristics and capabilities from another class.\n",
    "* Here, the characteristics that we are talking about are the attributes of the class, while the capabilities are its behavior (methods of a class).\n",
    "\n",
    "**Why**\n",
    "* Let's consider the following example,\n",
    "* As we have seen in the previous section, we have a class Employee that stores and manages employee details.\n",
    "* Now, assume that we also have interns in our organization. Thus, we would need a new class Intern for that.\n",
    "* But, understand that an intern is also a type of employee, thus it will have all the attributes of the employee such as name, age, and more.\n",
    "* With that, it also might have some additional details.\n",
    "*Therefore, in such a scenario, we can inherit all those data from the Employee class rather than creating again in the Intern class. See, Reusability at it's best!.\n",
    "\n",
    "**Terminologies**\n",
    "* Before we move ahead, let's have a look at a few terminologies that you should know while working with Inheritance in OOP.\n",
    "* **Parent Class**: Parent class is the class being inherited from the other classes. It is also called the Base class.\n",
    "* **Child Class**: Child class is the class that inherits from another class. It is also called a Derived class.\n",
    "* With that, let have a look at the syntax of how Inheritance in Python works.\n",
    "\n",
    "#Following is the syntax of implementing Inheritance in Python,\n",
    "* **`class BaseClass:`**\n",
    "* **`#body of the base class`**\n",
    "* **`class DerivedClass(BaseClass):`**\n",
    "* **`#body of the derived class`**\n",
    "* As you can see, when we want to implement inheritance, we can pass the name of the parent class in the parenthesis while we define the child class."
   ]
  },
  {
   "cell_type": "code",
   "execution_count": 3,
   "id": "360852ce-8e29-406b-b15b-88d507299408",
   "metadata": {},
   "outputs": [
    {
     "name": "stdout",
     "output_type": "stream",
     "text": [
      "('Tom', 22, 'Marketing Intern', 12000)\n"
     ]
    }
   ],
   "source": [
    "# Eg of Inheritance\n",
    "class Employee:\n",
    "    totalEmployees = 0\n",
    "    \n",
    "    def __init__(self, empName, age, designation,salary):\n",
    "        self.empName = empName\n",
    "        self.age = age\n",
    "        self.designation = designation\n",
    "        self.salary = salary  \n",
    "        Employee.totalEmployees += 1\n",
    "        \n",
    "    def getEmpDetails(self):\n",
    "        return self.empName, self.age, self.designation, self.salary\n",
    "    \n",
    "    def updateSalary (self, newSalary):\n",
    "        self.salary=newSalary\n",
    "        print('Salary Updated')\n",
    "        return self.salary\n",
    "\n",
    "class Intern (Employee):\n",
    "    pass\n",
    "internOne = Intern ('Tom', 22, 'Marketing Intern', 12000)\n",
    "\n",
    "print(internOne.getEmpDetails())"
   ]
  },
  {
   "cell_type": "markdown",
   "id": "da3b5490-f5b0-450e-8556-fc134b733c83",
   "metadata": {},
   "source": [
    "**Above code explanation**\n",
    "* For now, let's keep the Intern class empty by using the 'pass' keyword.\n",
    "* What happens if we create the object of the Intern class?\n",
    "* Since the Intern class does not have anything in it as of now, creating the object won't do any benefit to us. But, wait!\n",
    "* Remember we discussed that a child class can access all the attributes and methods of the parent class?\n",
    "* That means, if we create the object of the child class, we will be able to access the attributes and methods from the Employee class.\n",
    "* Whenever we create an object of the child class and try to access something, it will first search for that in the child class, if found then it will execute it and return the data. If not found, then it will search and access the data from the parent class.\n",
    "* Therefore, in this scenario, since the child class is empty, the object will directly access the required attributes and methods from the parent class."
   ]
  },
  {
   "cell_type": "code",
   "execution_count": 6,
   "id": "8aa8962e-3130-4740-8a6a-058d86b798d6",
   "metadata": {},
   "outputs": [
    {
     "name": "stdout",
     "output_type": "stream",
     "text": [
      "('Tom', 22, 'Marketing Intern', 12000)\n",
      "('Internship Period (in months) is', 6)\n"
     ]
    }
   ],
   "source": [
    "#Above Eg, Adding attributes and methods to the child class\n",
    "class Intern(Employee):\n",
    "\n",
    "    def __init__(self, empName, age, designation, salary, internPeriod):\n",
    "        self.internPeriod = internPeriod\n",
    "        Employee.__init__(self, empName, age, designation, salary,)\n",
    "\n",
    "    def getPeriod(self):\n",
    "        return \"Internship Period (in months) is\", self.internPeriod\n",
    "\n",
    "internOne = Intern('Tom', 22, 'Marketing Intern', 12000, 6)\n",
    "print(internOne.getEmpDetails())\n",
    "print(internOne.getPeriod())"
   ]
  },
  {
   "cell_type": "markdown",
   "id": "0c4312c6-1565-46fc-afc9-93644a042cca",
   "metadata": {},
   "source": [
    "**#Above Eg, Adding attributes and methods to the child class**\n",
    "* As we know for an Intern, the company would need all the details that it would need for an Employee such as empName, age, designation, salary, and more.\n",
    "* But with that, it might need some more information such as the internship period of the intern in months.\n",
    "* Thus, rather than defining all those attributes again, we simply define only the attributes that are new for the child class, and for the other attributes, we make a call to the constructor of the Base class within the constructor of the Derived class using the following syntax,\n",
    "* **`BaseClass._init(self, parameter1, parameter2, ... parameterN)`**\n",
    "* **`internOne = Intern('Tom', 22, 'Marketing Intern', 12000, 6)`**\n",
    "* **`print(internOne.getEmpDetails())`**\n",
    "* **`print(internOne.getPeriod())`**\n",
    "* Here, as we can see, we have passed the new parameter that is required by the child class when we create the object and simply made the calls to the needed methods."
   ]
  },
  {
   "cell_type": "markdown",
   "id": "e3e51ae8-a440-4b76-a7eb-88fd0e75ce5d",
   "metadata": {},
   "source": [
    "## Types Of Inheritance\n",
    "* The inheritance that we saw until now is called the Single Inheritance as it enables the derived class to inherit properties from a single parent class.It is one of the most basic types of inheritance in Python.\n",
    "* Following are a few more types of inheritance in Python,\n",
    "1) **Multilevel Inheritance**\n",
    "2) **Multiple Inheritance**\n",
    "3) **Hierarchical Inheritance**\n",
    "\n",
    "## 1) Multilevel Inheritance\n",
    "* In multilevel inheritance, attributes and behaviors of the base class and the derived class are further inherited into the new derived class.\n",
    "*This is similar to a relationship representing a child and grandfather.\n",
    "* Following is the pseudo-code of how it would look,\n",
    "* **`class Employee:`**\n",
    "* **`pass`**\n",
    "* **`class Intern (Employee):`**\n",
    "* **`pass`**\n",
    "* **`class Bonus (Intern):`**\n",
    "* **`pass`**\n",
    "* Here, the Bonus class can access the attributes and behaviors of both Employee and the Intern class.\n",
    "* The Bonus class cannot directly access the Employee class, but since it is inheriting the Intern class which is further inheriting the Employee class and has all the data of the Employee class, it can access both Employee and the Intern class.\n",
    "\n",
    "## 2) Multiple Inheritance\n",
    "* When a class can be derived from more than one base class this type of inheritance is called multiple inheritance.\n",
    "* In multiple inheritance, all the features of the base classes are inherited into the derived class.\n",
    "*Following is the pseudo-code of how it would look,\n",
    "* **`class Company:`**\n",
    "* **`pass`**\n",
    "* **`class Employee:`**\n",
    "* **`pass`**\n",
    "* **`class Intern (Company, Employee):`**\n",
    "* **`pass`**\n",
    "\n",
    "## 3)Hierarchical Inheritance\n",
    "* When more than one derived class is created from a single base class, then it is called hierarchical inheritance.\n",
    "* Following is the pseudo-code of how it would look,\n",
    "* **`class Company:`**\n",
    "* **`pass`**\n",
    "* **`class Employee (Company):`**\n",
    "* **`pass`**\n",
    "* **`class Intern(Company):`**\n",
    "* **`pass`**"
   ]
  },
  {
   "cell_type": "markdown",
   "id": "da19e726-8de0-499b-a6fe-e6732a0f15b9",
   "metadata": {},
   "source": [
    "# Polymorphism\n",
    "* To understand the concept of Polymorphism, let's take a simple real-life example before we move ahead.\n",
    "* As you can see above, when we talk about a SoccerPlayer, in general, they are termed as players. But, in the game situation, these players can have different forms such as forward player, midfield player, goalkeeper player, and so on.\n",
    "\n",
    "#Two types of polymorphism in OOPs\n",
    "* **Method Overloading**\n",
    "* **Method Overriding**\n",
    "\n",
    "**#Method Overloading**\n",
    "* Method Overloading is ne of the most basic forms of Polymorphism in OOP.\n",
    "* Method Overloading is the situation where there are two methods of the same name but with different parameters in the same class.\n",
    "* There are situations where a method can have different parameters so that they can perform different functionalities as required.\n",
    "* Consider the example where you have a method named **area()**. Now depending upon the parameters passed, it can behave differently\n",
    "* For instance, if you want to find the area of a rectangle then the parameters would be length and breath whereas if you wish to find the square, then the parameter would be just the side of the square.\n",
    "* Let's have a look at the pseudocode of the previous example.\n",
    "* **`class Geometry:`**\n",
    "* **`method area (length, breath):`**\n",
    "* **`return length * breath`**\n",
    "* **`method area (side):`**\n",
    "* **`return side * side`**\n",
    "* Now, when we make the call to the method area(), and if two parameters are passed, then it will find the area of the rectangle whereas if one parameter is passed, it will find the area of a square.\n",
    "* See? One method, but different forms! This is how the situation of Method Overloading works in Polymorphism.\n",
    "\n",
    "**#Method Overloading In Pyrhon**\n",
    "* Method overloading is an important form of Polymorphism in OOP. But, when we talk about Python, then method overloading is not supported in Python!\n",
    "* Yes, you read it right, the most basic form of polymorphism - method overloading - is not supported by Python.\n",
    "* It is supported by various other OOP programming languages like Java, C++, C#, and more.\n",
    "* Thus, we can't have any practical code implementation about method overloading in Python.\n",
    "\n",
    "**#Method Overriding**\n",
    "* Just like method overloading, Method overriding is yet another form of Polymorphism is OOP.\n",
    "* Overriding is the situation where there are two methods with the same name and the same parameters but in two different classes.\n",
    "* Method overriding will only come into the picture if the inheritance is involved.\n",
    "* This means the child class has a method with the same name and the same parameters as the method in the parent class."
   ]
  },
  {
   "cell_type": "code",
   "execution_count": 20,
   "id": "09114fc0-3bc2-4345-8c11-4ac2c2bf6819",
   "metadata": {},
   "outputs": [
    {
     "name": "stdout",
     "output_type": "stream",
     "text": [
      "Derived class method called\n"
     ]
    }
   ],
   "source": [
    "#Eg of Method Overriding\n",
    "class Base:\n",
    "    def method (self):\n",
    "        print(\"Base class method called\")\n",
    "        \n",
    "class Derived (Base):\n",
    "     def method (self):\n",
    "          print(\"Derived class method called\")\n",
    "         \n",
    "obj1 = Derived()\n",
    "obj1.method()\n"
   ]
  },
  {
   "cell_type": "markdown",
   "id": "703cbf0d-b165-4516-97b3-0686f149519a",
   "metadata": {},
   "source": [
    "* The above example simply illustrates the working of method overriding in Python.\n",
    "* As we can see, we have two classes, the Base class, and the Derived class. The Derived class inherits from the Base class.\n",
    "* When the object of the derived class is created, it calls the overridden method in the child class instead of calling the method with the same name in the parent class.\n",
    "* Note that you can override the methods from the parent class.\n",
    "* One of the reasons for overriding parent's methods is because you may want special or different functionality in your subclass i.e. your derived class."
   ]
  },
  {
   "cell_type": "code",
   "execution_count": 33,
   "id": "6b04b24a-9321-41de-90b7-5d39b8a25b82",
   "metadata": {},
   "outputs": [
    {
     "name": "stdout",
     "output_type": "stream",
     "text": [
      "Hie, I am class Demo\n"
     ]
    }
   ],
   "source": [
    "#Eg of Method Overriding\n",
    "class Demo:\n",
    "    def name(self):\n",
    "        print(\"Hie, I am class Demo\")\n",
    "        \n",
    "class DemoTwo(Demo):\n",
    "    def name(self):\n",
    "        print(\"Hie, I am class DemoTwo\")\n",
    "        \n",
    "obj1 = Demo() #Use any one of the two classnames mentioned above\n",
    "obj1.name()"
   ]
  },
  {
   "cell_type": "code",
   "execution_count": null,
   "id": "a651eb37-2e72-4425-9956-ef68df6ab88d",
   "metadata": {},
   "outputs": [],
   "source": []
  }
 ],
 "metadata": {
  "kernelspec": {
   "display_name": "Python 3 (ipykernel)",
   "language": "python",
   "name": "python3"
  },
  "language_info": {
   "codemirror_mode": {
    "name": "ipython",
    "version": 3
   },
   "file_extension": ".py",
   "mimetype": "text/x-python",
   "name": "python",
   "nbconvert_exporter": "python",
   "pygments_lexer": "ipython3",
   "version": "3.12.4"
  }
 },
 "nbformat": 4,
 "nbformat_minor": 5
}
